{
 "cells": [
  {
   "cell_type": "code",
   "execution_count": 1,
   "metadata": {},
   "outputs": [],
   "source": [
    "import panel as pn\n",
    "import pandas as pd\n",
    "import que\n",
    "#pn.extension(comms='vscode')"
   ]
  },
  {
   "cell_type": "code",
   "execution_count": 2,
   "metadata": {},
   "outputs": [],
   "source": [
    "hypothetical = pd.read_csv(\"./data/hypo_performance.csv\",index_col=\"Plan\")\n",
    "parameters=['bold_rows', 'index', 'header']\n",
    "df_pane = pn.widgets.DataFrame(hypothetical,name=\"hypot\")\n",
    "#df_pane"
   ]
  },
  {
   "cell_type": "code",
   "execution_count": 3,
   "metadata": {},
   "outputs": [
    {
     "ename": "AttributeError",
     "evalue": "module 'panel.pane' has no attribute 'Alert'",
     "output_type": "error",
     "traceback": [
      "\u001b[1;31m---------------------------------------------------------------------------\u001b[0m",
      "\u001b[1;31mAttributeError\u001b[0m                            Traceback (most recent call last)",
      "\u001b[1;32m<ipython-input-3-35c5562b903a>\u001b[0m in \u001b[0;36m<module>\u001b[1;34m\u001b[0m\n\u001b[0;32m      6\u001b[0m     \u001b[1;31m#print (q['choices'])\u001b[0m\u001b[1;33m\u001b[0m\u001b[1;33m\u001b[0m\u001b[1;33m\u001b[0m\u001b[0m\n\u001b[0;32m      7\u001b[0m     \u001b[0mqid\u001b[0m \u001b[1;33m=\u001b[0m \u001b[1;34m\"q\"\u001b[0m \u001b[1;33m+\u001b[0m \u001b[0mstr\u001b[0m\u001b[1;33m(\u001b[0m\u001b[0mi\u001b[0m\u001b[1;33m)\u001b[0m\u001b[1;33m\u001b[0m\u001b[1;33m\u001b[0m\u001b[0m\n\u001b[1;32m----> 8\u001b[1;33m     \u001b[0mheader\u001b[0m \u001b[1;33m=\u001b[0m \u001b[0mpn\u001b[0m\u001b[1;33m.\u001b[0m\u001b[0mpane\u001b[0m\u001b[1;33m.\u001b[0m\u001b[0mAlert\u001b[0m\u001b[1;33m(\u001b[0m\u001b[1;34mf\"###{q['question']}\"\u001b[0m\u001b[1;33m)\u001b[0m\u001b[1;33m\u001b[0m\u001b[1;33m\u001b[0m\u001b[0m\n\u001b[0m\u001b[0;32m      9\u001b[0m     \u001b[0mcolumn\u001b[0m\u001b[1;33m.\u001b[0m\u001b[0mappend\u001b[0m\u001b[1;33m(\u001b[0m\u001b[0mheader\u001b[0m\u001b[1;33m)\u001b[0m\u001b[1;33m\u001b[0m\u001b[1;33m\u001b[0m\u001b[0m\n\u001b[0;32m     10\u001b[0m     \u001b[1;32mif\u001b[0m \u001b[0mq\u001b[0m \u001b[1;33m==\u001b[0m \u001b[0mque\u001b[0m\u001b[1;33m.\u001b[0m\u001b[0mq10\u001b[0m\u001b[1;33m:\u001b[0m\u001b[1;33m\u001b[0m\u001b[1;33m\u001b[0m\u001b[0m\n",
      "\u001b[1;31mAttributeError\u001b[0m: module 'panel.pane' has no attribute 'Alert'"
     ]
    }
   ],
   "source": [
    "column = pn.Column('# Risk Tolerance Questions ',sizing_mode=\"stretch_width\",)\n",
    "i=1\n",
    "dict_answer = dict()\n",
    "ques_rad =[]\n",
    "for q in que.questions:\n",
    "    #print (q['choices'])\n",
    "    qid = \"q\" + str(i)\n",
    "    header = pn.pane.Alert(f\"###{q['question']}\")\n",
    "    column.append(header)\n",
    "    if q == que.q10:\n",
    "        #print(\"bla\")\n",
    "        column.append(df_pane)\n",
    "    q_options = []\n",
    "    choices=[]\n",
    "    for opt in q['choices']:\n",
    "        q_options.append(opt[1])\n",
    "        choices.append(opt)         \n",
    "   \n",
    "    radio_group = pn.widgets.RadioButtonGroup( name= qid,\n",
    "        options= q_options,\n",
    "        button_type='default',)\n",
    "    ques_rad.append(radio_group)\n",
    "    column.append(radio_group)\n",
    "    dict_answer[qid] = choices\n",
    "    i+=1\n",
    "    column.append( pn.layout.Divider())    \n",
    "    "
   ]
  },
  {
   "cell_type": "code",
   "execution_count": null,
   "metadata": {},
   "outputs": [],
   "source": [
    "column"
   ]
  },
  {
   "cell_type": "code",
   "execution_count": null,
   "metadata": {},
   "outputs": [],
   "source": [
    "q_score =[]\n",
    "for ans in ques_rad:   \n",
    "    for opt in dict_answer[ans.name] :\n",
    "        #print(opt) \n",
    "        if ans.value in opt:\n",
    "            q_score.append(int(opt[0]))   \n",
    "    \n",
    "print (q_score)"
   ]
  },
  {
   "cell_type": "code",
   "execution_count": null,
   "metadata": {},
   "outputs": [],
   "source": [
    "total_score = sum(q_score)\n",
    "risk_profile =\"Unknown\"\n",
    "if total_score < 20:\n",
    "       risk_profile = \"Preservation\"\n",
    "elif total_score >= 20 and total_score < 40:\n",
    "    risk_profile = \"Conservative\"\n",
    "elif total_score >= 40 and total_score < 60:\n",
    "    risk_profile = \"Balanced\"\n",
    "elif total_score >= 60 and total_score <= 80:\n",
    "    risk_profile = \"Aggressive\"\n",
    "else:\n",
    "    risk_profile = \"All Equity\""
   ]
  },
  {
   "cell_type": "code",
   "execution_count": null,
   "metadata": {},
   "outputs": [],
   "source": [
    "risk_profile"
   ]
  },
  {
   "cell_type": "code",
   "execution_count": null,
   "metadata": {},
   "outputs": [],
   "source": []
  }
 ],
 "metadata": {
  "kernelspec": {
   "display_name": "Python [conda env:pyviz] *",
   "language": "python",
   "name": "conda-env-pyviz-py"
  },
  "language_info": {
   "codemirror_mode": {
    "name": "ipython",
    "version": 3
   },
   "file_extension": ".py",
   "mimetype": "text/x-python",
   "name": "python",
   "nbconvert_exporter": "python",
   "pygments_lexer": "ipython3",
   "version": "3.8.5"
  }
 },
 "nbformat": 4,
 "nbformat_minor": 4
}
