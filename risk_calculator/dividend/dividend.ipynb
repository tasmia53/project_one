{
 "metadata": {
  "language_info": {
   "codemirror_mode": {
    "name": "ipython",
    "version": 3
   },
   "file_extension": ".py",
   "mimetype": "text/x-python",
   "name": "python",
   "nbconvert_exporter": "python",
   "pygments_lexer": "ipython3",
   "version": "3.9.2-final"
  },
  "orig_nbformat": 2,
  "kernelspec": {
   "name": "python392jvsc74a57bd0da095f86ab32f3490c8b4dc37c23fc1d5409d02f5085c89ebb1e0696d14ca30b",
   "display_name": "Python 3.9.2 64-bit ('prjenv': conda)"
  },
  "metadata": {
   "interpreter": {
    "hash": "da095f86ab32f3490c8b4dc37c23fc1d5409d02f5085c89ebb1e0696d14ca30b"
   }
  }
 },
 "nbformat": 4,
 "nbformat_minor": 2,
 "cells": [
  {
   "cell_type": "code",
   "execution_count": 2,
   "metadata": {},
   "outputs": [],
   "source": [
    "import yfinance as yf\n",
    "import pandas as pd"
   ]
  },
  {
   "cell_type": "code",
   "execution_count": 7,
   "metadata": {},
   "outputs": [],
   "source": [
    "nasdaq_ticker = pd.read_csv('./data/nasdaq_screener.csv',index_col='Market Cap')"
   ]
  },
  {
   "cell_type": "code",
   "execution_count": 8,
   "metadata": {},
   "outputs": [
    {
     "output_type": "execute_result",
     "data": {
      "text/plain": [
       "             Symbol                                              Name  \\\n",
       "Market Cap                                                              \n",
       "1.316721e+08   AACG  ATA Creativity Global American Depositary Shares   \n",
       "9.264544e+08   AACQ      Artius Acquisition Inc. Class A Common Stock   \n",
       "0.000000e+00  AACQU                     Artius Acquisition Inc. Unit    \n",
       "0.000000e+00  AACQW                    Artius Acquisition Inc Warrant   \n",
       "1.554050e+10    AAL         American Airlines Group Inc. Common Stock   \n",
       "\n",
       "             Last Sale  Net Change % Change        Country  IPO Year  \\\n",
       "Market Cap                                                             \n",
       "1.316721e+08     $4.20      0.0100   0.239%          China       NaN   \n",
       "9.264544e+08    $10.23     -0.0900  -0.872%  United States    2020.0   \n",
       "0.000000e+00  $10.8302      0.0602   0.559%  United States    2020.0   \n",
       "0.000000e+00     $1.95      0.1700   9.551%  United States    2020.0   \n",
       "1.554050e+10    $24.23      0.3700   1.551%  United States       NaN   \n",
       "\n",
       "                Volume             Sector                       Industry  \n",
       "Market Cap                                                                \n",
       "1.316721e+08    132102  Consumer Services        Other Consumer Services  \n",
       "9.264544e+08    520836   Basic Industries                Major Chemicals  \n",
       "0.000000e+00      2875   Basic Industries                Major Chemicals  \n",
       "0.000000e+00    151895   Basic Industries                Major Chemicals  \n",
       "1.554050e+10  33508171     Transportation  Air Freight/Delivery Services  "
      ],
      "text/html": "<div>\n<style scoped>\n    .dataframe tbody tr th:only-of-type {\n        vertical-align: middle;\n    }\n\n    .dataframe tbody tr th {\n        vertical-align: top;\n    }\n\n    .dataframe thead th {\n        text-align: right;\n    }\n</style>\n<table border=\"1\" class=\"dataframe\">\n  <thead>\n    <tr style=\"text-align: right;\">\n      <th></th>\n      <th>Symbol</th>\n      <th>Name</th>\n      <th>Last Sale</th>\n      <th>Net Change</th>\n      <th>% Change</th>\n      <th>Country</th>\n      <th>IPO Year</th>\n      <th>Volume</th>\n      <th>Sector</th>\n      <th>Industry</th>\n    </tr>\n    <tr>\n      <th>Market Cap</th>\n      <th></th>\n      <th></th>\n      <th></th>\n      <th></th>\n      <th></th>\n      <th></th>\n      <th></th>\n      <th></th>\n      <th></th>\n      <th></th>\n    </tr>\n  </thead>\n  <tbody>\n    <tr>\n      <th>1.316721e+08</th>\n      <td>AACG</td>\n      <td>ATA Creativity Global American Depositary Shares</td>\n      <td>$4.20</td>\n      <td>0.0100</td>\n      <td>0.239%</td>\n      <td>China</td>\n      <td>NaN</td>\n      <td>132102</td>\n      <td>Consumer Services</td>\n      <td>Other Consumer Services</td>\n    </tr>\n    <tr>\n      <th>9.264544e+08</th>\n      <td>AACQ</td>\n      <td>Artius Acquisition Inc. Class A Common Stock</td>\n      <td>$10.23</td>\n      <td>-0.0900</td>\n      <td>-0.872%</td>\n      <td>United States</td>\n      <td>2020.0</td>\n      <td>520836</td>\n      <td>Basic Industries</td>\n      <td>Major Chemicals</td>\n    </tr>\n    <tr>\n      <th>0.000000e+00</th>\n      <td>AACQU</td>\n      <td>Artius Acquisition Inc. Unit</td>\n      <td>$10.8302</td>\n      <td>0.0602</td>\n      <td>0.559%</td>\n      <td>United States</td>\n      <td>2020.0</td>\n      <td>2875</td>\n      <td>Basic Industries</td>\n      <td>Major Chemicals</td>\n    </tr>\n    <tr>\n      <th>0.000000e+00</th>\n      <td>AACQW</td>\n      <td>Artius Acquisition Inc Warrant</td>\n      <td>$1.95</td>\n      <td>0.1700</td>\n      <td>9.551%</td>\n      <td>United States</td>\n      <td>2020.0</td>\n      <td>151895</td>\n      <td>Basic Industries</td>\n      <td>Major Chemicals</td>\n    </tr>\n    <tr>\n      <th>1.554050e+10</th>\n      <td>AAL</td>\n      <td>American Airlines Group Inc. Common Stock</td>\n      <td>$24.23</td>\n      <td>0.3700</td>\n      <td>1.551%</td>\n      <td>United States</td>\n      <td>NaN</td>\n      <td>33508171</td>\n      <td>Transportation</td>\n      <td>Air Freight/Delivery Services</td>\n    </tr>\n  </tbody>\n</table>\n</div>"
     },
     "metadata": {},
     "execution_count": 8
    }
   ],
   "source": [
    "nasdaq_ticker.head()"
   ]
  },
  {
   "cell_type": "code",
   "execution_count": 12,
   "metadata": {},
   "outputs": [],
   "source": [
    "nasdaq_ticker.sort_index(inplace=True,ascending=False)"
   ]
  },
  {
   "cell_type": "code",
   "execution_count": 18,
   "metadata": {},
   "outputs": [
    {
     "output_type": "execute_result",
     "data": {
      "text/plain": [
       "             Symbol                                         Name Last Sale  \\\n",
       "Market Cap                                                                   \n",
       "2.182771e+12   AAPL                      Apple Inc. Common Stock   $125.90   \n",
       "1.878540e+12   MSFT           Microsoft Corporation Common Stock   $249.07   \n",
       "1.624867e+12   AMZN                 Amazon.com Inc. Common Stock  $3226.73   \n",
       "1.500325e+12   GOOG          Alphabet Inc. Class C Capital Stock  $2225.55   \n",
       "1.495882e+12  GOOGL           Alphabet Inc. Class A Common Stock  $2218.96   \n",
       "8.798661e+11     FB           Facebook Inc. Class A Common Stock   $308.91   \n",
       "6.633068e+11   TSLA                      Tesla Inc. Common Stock   $691.05   \n",
       "3.468900e+11   NVDA              NVIDIA Corporation Common Stock   $559.50   \n",
       "2.939885e+11   PYPL            PayPal Holdings Inc. Common Stock   $251.02   \n",
       "2.709739e+11   INTC               Intel Corporation Common Stock    $66.54   \n",
       "2.667731e+11   ASML   ASML Holding N.V. New York Registry Shares   $640.49   \n",
       "2.510200e+11  CMCSA     Comcast Corporation Class A Common Stock    $54.80   \n",
       "2.394602e+11   NFLX                    Netflix Inc. Common Stock   $540.67   \n",
       "2.349944e+11   ADBE                      Adobe Inc. Common Stock   $491.62   \n",
       "2.212638e+11   CSCO         Cisco Systems Inc. Common Stock (DE)    $52.41   \n",
       "1.994475e+11   AVGO                   Broadcom Inc. Common Stock   $488.48   \n",
       "1.975676e+11    PEP                    PepsiCo Inc. Common Stock   $143.16   \n",
       "1.817680e+11    TXN  Texas Instruments Incorporated Common Stock   $196.93   \n",
       "1.790577e+11    PDD    Pinduoduo Inc. American Depositary Shares   $142.91   \n",
       "1.631733e+11   TMUS                T-Mobile US Inc. Common Stock   $131.40   \n",
       "\n",
       "              Net Change % Change        Country  IPO Year    Volume  \\\n",
       "Market Cap                                                             \n",
       "2.182771e+12        2.90   2.358%  United States    1980.0  88367059   \n",
       "1.878540e+12        6.72   2.773%  United States    1986.0  36889409   \n",
       "1.624867e+12       65.73   2.079%  United States    1997.0   3328210   \n",
       "1.500325e+12       87.80   4.107%  United States    2004.0   2162817   \n",
       "1.495882e+12       89.18   4.187%  United States       NaN   2422180   \n",
       "8.798661e+11       10.25   3.432%  United States    2012.0  28191127   \n",
       "6.633068e+11       29.30   4.428%  United States    2010.0  41755461   \n",
       "3.468900e+11        7.03   1.272%  United States    1999.0   6379437   \n",
       "2.939885e+11        3.48   1.406%  United States       NaN   5740581   \n",
       "2.709739e+11        1.99   3.083%  United States       NaN  27937124   \n",
       "2.667731e+11        3.39   0.532%    Netherlands    1995.0   1529827   \n",
       "2.510200e+11        0.05   0.091%  United States       NaN  14836417   \n",
       "2.394602e+11        1.25   0.232%  United States    2002.0   3354559   \n",
       "2.349944e+11        8.28   1.713%  United States    1986.0   2979266   \n",
       "2.212638e+11        0.80    1.55%  United States    1990.0  19860154   \n",
       "1.994475e+11       12.53   2.633%  United States    2009.0   2296248   \n",
       "1.975676e+11        1.88   1.331%  United States       NaN   5979948   \n",
       "1.817680e+11        4.87   2.536%  United States       NaN   4323256   \n",
       "1.790577e+11       -1.02  -0.709%          China    2018.0   4722828   \n",
       "1.631733e+11        3.75   2.938%  United States       NaN   4314444   \n",
       "\n",
       "                             Sector  \\\n",
       "Market Cap                            \n",
       "2.182771e+12             Technology   \n",
       "1.878540e+12             Technology   \n",
       "1.624867e+12      Consumer Services   \n",
       "1.500325e+12             Technology   \n",
       "1.495882e+12             Technology   \n",
       "8.798661e+11             Technology   \n",
       "6.633068e+11          Capital Goods   \n",
       "3.468900e+11             Technology   \n",
       "2.939885e+11          Miscellaneous   \n",
       "2.709739e+11             Technology   \n",
       "2.667731e+11             Technology   \n",
       "2.510200e+11      Consumer Services   \n",
       "2.394602e+11      Consumer Services   \n",
       "2.349944e+11             Technology   \n",
       "2.212638e+11             Technology   \n",
       "1.994475e+11             Technology   \n",
       "1.975676e+11  Consumer Non-Durables   \n",
       "1.817680e+11             Technology   \n",
       "1.790577e+11          Miscellaneous   \n",
       "1.631733e+11       Public Utilities   \n",
       "\n",
       "                                                    Industry  \n",
       "Market Cap                                                    \n",
       "2.182771e+12                          Computer Manufacturing  \n",
       "1.878540e+12         Computer Software: Prepackaged Software  \n",
       "1.624867e+12                  Catalog/Specialty Distribution  \n",
       "1.500325e+12  Computer Software: Programming Data Processing  \n",
       "1.495882e+12  Computer Software: Programming Data Processing  \n",
       "8.798661e+11  Computer Software: Programming Data Processing  \n",
       "6.633068e+11                              Auto Manufacturing  \n",
       "3.468900e+11                                  Semiconductors  \n",
       "2.939885e+11                               Business Services  \n",
       "2.709739e+11                                  Semiconductors  \n",
       "2.667731e+11                 Industrial Machinery/Components  \n",
       "2.510200e+11                             Television Services  \n",
       "2.394602e+11               Consumer Electronics/Video Chains  \n",
       "2.349944e+11         Computer Software: Prepackaged Software  \n",
       "2.212638e+11               Computer Communications Equipment  \n",
       "1.994475e+11                                  Semiconductors  \n",
       "1.975676e+11             Beverages (Production/Distribution)  \n",
       "1.817680e+11                                  Semiconductors  \n",
       "1.790577e+11                               Business Services  \n",
       "1.631733e+11                    Telecommunications Equipment  "
      ],
      "text/html": "<div>\n<style scoped>\n    .dataframe tbody tr th:only-of-type {\n        vertical-align: middle;\n    }\n\n    .dataframe tbody tr th {\n        vertical-align: top;\n    }\n\n    .dataframe thead th {\n        text-align: right;\n    }\n</style>\n<table border=\"1\" class=\"dataframe\">\n  <thead>\n    <tr style=\"text-align: right;\">\n      <th></th>\n      <th>Symbol</th>\n      <th>Name</th>\n      <th>Last Sale</th>\n      <th>Net Change</th>\n      <th>% Change</th>\n      <th>Country</th>\n      <th>IPO Year</th>\n      <th>Volume</th>\n      <th>Sector</th>\n      <th>Industry</th>\n    </tr>\n    <tr>\n      <th>Market Cap</th>\n      <th></th>\n      <th></th>\n      <th></th>\n      <th></th>\n      <th></th>\n      <th></th>\n      <th></th>\n      <th></th>\n      <th></th>\n      <th></th>\n    </tr>\n  </thead>\n  <tbody>\n    <tr>\n      <th>2.182771e+12</th>\n      <td>AAPL</td>\n      <td>Apple Inc. Common Stock</td>\n      <td>$125.90</td>\n      <td>2.90</td>\n      <td>2.358%</td>\n      <td>United States</td>\n      <td>1980.0</td>\n      <td>88367059</td>\n      <td>Technology</td>\n      <td>Computer Manufacturing</td>\n    </tr>\n    <tr>\n      <th>1.878540e+12</th>\n      <td>MSFT</td>\n      <td>Microsoft Corporation Common Stock</td>\n      <td>$249.07</td>\n      <td>6.72</td>\n      <td>2.773%</td>\n      <td>United States</td>\n      <td>1986.0</td>\n      <td>36889409</td>\n      <td>Technology</td>\n      <td>Computer Software: Prepackaged Software</td>\n    </tr>\n    <tr>\n      <th>1.624867e+12</th>\n      <td>AMZN</td>\n      <td>Amazon.com Inc. Common Stock</td>\n      <td>$3226.73</td>\n      <td>65.73</td>\n      <td>2.079%</td>\n      <td>United States</td>\n      <td>1997.0</td>\n      <td>3328210</td>\n      <td>Consumer Services</td>\n      <td>Catalog/Specialty Distribution</td>\n    </tr>\n    <tr>\n      <th>1.500325e+12</th>\n      <td>GOOG</td>\n      <td>Alphabet Inc. Class C Capital Stock</td>\n      <td>$2225.55</td>\n      <td>87.80</td>\n      <td>4.107%</td>\n      <td>United States</td>\n      <td>2004.0</td>\n      <td>2162817</td>\n      <td>Technology</td>\n      <td>Computer Software: Programming Data Processing</td>\n    </tr>\n    <tr>\n      <th>1.495882e+12</th>\n      <td>GOOGL</td>\n      <td>Alphabet Inc. Class A Common Stock</td>\n      <td>$2218.96</td>\n      <td>89.18</td>\n      <td>4.187%</td>\n      <td>United States</td>\n      <td>NaN</td>\n      <td>2422180</td>\n      <td>Technology</td>\n      <td>Computer Software: Programming Data Processing</td>\n    </tr>\n    <tr>\n      <th>8.798661e+11</th>\n      <td>FB</td>\n      <td>Facebook Inc. Class A Common Stock</td>\n      <td>$308.91</td>\n      <td>10.25</td>\n      <td>3.432%</td>\n      <td>United States</td>\n      <td>2012.0</td>\n      <td>28191127</td>\n      <td>Technology</td>\n      <td>Computer Software: Programming Data Processing</td>\n    </tr>\n    <tr>\n      <th>6.633068e+11</th>\n      <td>TSLA</td>\n      <td>Tesla Inc. Common Stock</td>\n      <td>$691.05</td>\n      <td>29.30</td>\n      <td>4.428%</td>\n      <td>United States</td>\n      <td>2010.0</td>\n      <td>41755461</td>\n      <td>Capital Goods</td>\n      <td>Auto Manufacturing</td>\n    </tr>\n    <tr>\n      <th>3.468900e+11</th>\n      <td>NVDA</td>\n      <td>NVIDIA Corporation Common Stock</td>\n      <td>$559.50</td>\n      <td>7.03</td>\n      <td>1.272%</td>\n      <td>United States</td>\n      <td>1999.0</td>\n      <td>6379437</td>\n      <td>Technology</td>\n      <td>Semiconductors</td>\n    </tr>\n    <tr>\n      <th>2.939885e+11</th>\n      <td>PYPL</td>\n      <td>PayPal Holdings Inc. Common Stock</td>\n      <td>$251.02</td>\n      <td>3.48</td>\n      <td>1.406%</td>\n      <td>United States</td>\n      <td>NaN</td>\n      <td>5740581</td>\n      <td>Miscellaneous</td>\n      <td>Business Services</td>\n    </tr>\n    <tr>\n      <th>2.709739e+11</th>\n      <td>INTC</td>\n      <td>Intel Corporation Common Stock</td>\n      <td>$66.54</td>\n      <td>1.99</td>\n      <td>3.083%</td>\n      <td>United States</td>\n      <td>NaN</td>\n      <td>27937124</td>\n      <td>Technology</td>\n      <td>Semiconductors</td>\n    </tr>\n    <tr>\n      <th>2.667731e+11</th>\n      <td>ASML</td>\n      <td>ASML Holding N.V. New York Registry Shares</td>\n      <td>$640.49</td>\n      <td>3.39</td>\n      <td>0.532%</td>\n      <td>Netherlands</td>\n      <td>1995.0</td>\n      <td>1529827</td>\n      <td>Technology</td>\n      <td>Industrial Machinery/Components</td>\n    </tr>\n    <tr>\n      <th>2.510200e+11</th>\n      <td>CMCSA</td>\n      <td>Comcast Corporation Class A Common Stock</td>\n      <td>$54.80</td>\n      <td>0.05</td>\n      <td>0.091%</td>\n      <td>United States</td>\n      <td>NaN</td>\n      <td>14836417</td>\n      <td>Consumer Services</td>\n      <td>Television Services</td>\n    </tr>\n    <tr>\n      <th>2.394602e+11</th>\n      <td>NFLX</td>\n      <td>Netflix Inc. Common Stock</td>\n      <td>$540.67</td>\n      <td>1.25</td>\n      <td>0.232%</td>\n      <td>United States</td>\n      <td>2002.0</td>\n      <td>3354559</td>\n      <td>Consumer Services</td>\n      <td>Consumer Electronics/Video Chains</td>\n    </tr>\n    <tr>\n      <th>2.349944e+11</th>\n      <td>ADBE</td>\n      <td>Adobe Inc. Common Stock</td>\n      <td>$491.62</td>\n      <td>8.28</td>\n      <td>1.713%</td>\n      <td>United States</td>\n      <td>1986.0</td>\n      <td>2979266</td>\n      <td>Technology</td>\n      <td>Computer Software: Prepackaged Software</td>\n    </tr>\n    <tr>\n      <th>2.212638e+11</th>\n      <td>CSCO</td>\n      <td>Cisco Systems Inc. Common Stock (DE)</td>\n      <td>$52.41</td>\n      <td>0.80</td>\n      <td>1.55%</td>\n      <td>United States</td>\n      <td>1990.0</td>\n      <td>19860154</td>\n      <td>Technology</td>\n      <td>Computer Communications Equipment</td>\n    </tr>\n    <tr>\n      <th>1.994475e+11</th>\n      <td>AVGO</td>\n      <td>Broadcom Inc. Common Stock</td>\n      <td>$488.48</td>\n      <td>12.53</td>\n      <td>2.633%</td>\n      <td>United States</td>\n      <td>2009.0</td>\n      <td>2296248</td>\n      <td>Technology</td>\n      <td>Semiconductors</td>\n    </tr>\n    <tr>\n      <th>1.975676e+11</th>\n      <td>PEP</td>\n      <td>PepsiCo Inc. Common Stock</td>\n      <td>$143.16</td>\n      <td>1.88</td>\n      <td>1.331%</td>\n      <td>United States</td>\n      <td>NaN</td>\n      <td>5979948</td>\n      <td>Consumer Non-Durables</td>\n      <td>Beverages (Production/Distribution)</td>\n    </tr>\n    <tr>\n      <th>1.817680e+11</th>\n      <td>TXN</td>\n      <td>Texas Instruments Incorporated Common Stock</td>\n      <td>$196.93</td>\n      <td>4.87</td>\n      <td>2.536%</td>\n      <td>United States</td>\n      <td>NaN</td>\n      <td>4323256</td>\n      <td>Technology</td>\n      <td>Semiconductors</td>\n    </tr>\n    <tr>\n      <th>1.790577e+11</th>\n      <td>PDD</td>\n      <td>Pinduoduo Inc. American Depositary Shares</td>\n      <td>$142.91</td>\n      <td>-1.02</td>\n      <td>-0.709%</td>\n      <td>China</td>\n      <td>2018.0</td>\n      <td>4722828</td>\n      <td>Miscellaneous</td>\n      <td>Business Services</td>\n    </tr>\n    <tr>\n      <th>1.631733e+11</th>\n      <td>TMUS</td>\n      <td>T-Mobile US Inc. Common Stock</td>\n      <td>$131.40</td>\n      <td>3.75</td>\n      <td>2.938%</td>\n      <td>United States</td>\n      <td>NaN</td>\n      <td>4314444</td>\n      <td>Public Utilities</td>\n      <td>Telecommunications Equipment</td>\n    </tr>\n  </tbody>\n</table>\n</div>"
     },
     "metadata": {},
     "execution_count": 18
    }
   ],
   "source": [
    "nasdaq_ticker.head(20)"
   ]
  },
  {
   "cell_type": "code",
   "execution_count": 23,
   "metadata": {},
   "outputs": [],
   "source": [
    "# nasdaq_ticker.nlargest(50,nasdaq_ticker.index)\n",
    "nasdaq_ticker.reset_index(inplace=True)\n",
    "tickers = nasdaq_ticker[\"Symbol\"].head(50) "
   ]
  },
  {
   "cell_type": "code",
   "execution_count": 26,
   "metadata": {},
   "outputs": [
    {
     "output_type": "execute_result",
     "data": {
      "text/plain": [
       "count      50\n",
       "unique     50\n",
       "top       TXN\n",
       "freq        1\n",
       "Name: Symbol, dtype: object"
      ]
     },
     "metadata": {},
     "execution_count": 26
    }
   ],
   "source": [
    "tickers.describe()"
   ]
  },
  {
   "cell_type": "code",
   "execution_count": 33,
   "metadata": {},
   "outputs": [],
   "source": [
    "alist=[]\n",
    "for tick in tickers:\n",
    "    info = yf.Ticker(tick)\n",
    "    alist.append(tick)\n"
   ]
  },
  {
   "cell_type": "code",
   "execution_count": 35,
   "metadata": {},
   "outputs": [
    {
     "output_type": "stream",
     "name": "stdout",
     "text": [
      "[*********************100%***********************]  50 of 50 completed\n",
      "\n",
      "1 Failed download:\n",
      "- ABNB: Data doesn't exist for startDate = 1483189200, endDate = 1585486800\n"
     ]
    }
   ],
   "source": [
    "data = yf.download(alist, start=\"2017-01-01\", end=\"2020-03-30\")"
   ]
  },
  {
   "cell_type": "code",
   "execution_count": 36,
   "metadata": {},
   "outputs": [
    {
     "output_type": "execute_result",
     "data": {
      "text/plain": [
       "            Adj Close                                                      \\\n",
       "                 AAPL ABNB        ADBE         ADP        ADSK       AMAT   \n",
       "Date                                                                        \n",
       "2017-01-03  27.459938  NaN  103.480003   94.372414   76.180000  30.123646   \n",
       "2017-01-04  27.429203  NaN  104.139999   94.518303   77.519997  30.406586   \n",
       "2017-01-05  27.568691  NaN  105.910004   93.952965   76.930000  30.274540   \n",
       "2017-01-06  27.876030  NaN  108.300003   94.016808   79.300003  30.217953   \n",
       "2017-01-09  28.131361  NaN  108.570000   93.433243   79.589996  30.915873   \n",
       "...               ...  ...         ...         ...         ...        ...   \n",
       "2020-03-23  55.661041  NaN  307.269989  106.591522  144.139999  39.684887   \n",
       "2020-03-24  61.245258  NaN  310.000000  118.211342  149.960007  44.594872   \n",
       "2020-03-25  60.907871  NaN  305.910004  119.804291  149.990005  44.189823   \n",
       "2020-03-26  64.113029  NaN  322.670013  133.945496  160.880005  48.605839   \n",
       "2020-03-27  61.458603  NaN  305.829987  128.394562  141.570007  44.505955   \n",
       "\n",
       "                                                            ...    Volume  \\\n",
       "                  AMD        AMGN         AMZN        ASML  ...       PEP   \n",
       "Date                                                        ...             \n",
       "2017-01-03  11.430000  133.524841   753.669983  105.738678  ...   3741200   \n",
       "2017-01-04  11.430000  135.420578   757.179993  105.231293  ...   3029700   \n",
       "2017-01-05  11.240000  135.518021   780.450012  106.494980  ...   5087200   \n",
       "2017-01-06  11.320000  138.884232   795.989990  106.380104  ...   4109700   \n",
       "2017-01-09  11.490000  140.709106   796.919983  107.691666  ...   5603500   \n",
       "...               ...         ...          ...         ...  ...       ...   \n",
       "2020-03-23  41.639999  180.868484  1902.829956  231.078842  ...  13926800   \n",
       "2020-03-24  46.220001  196.831772  1940.099976  257.898468  ...  11447000   \n",
       "2020-03-25  44.630001  187.882217  1885.839966  259.741943  ...   9485500   \n",
       "2020-03-26  47.500000  193.086594  1955.489990  273.449097  ...  10376800   \n",
       "2020-03-27  46.580002  192.872574  1900.099976  250.375885  ...   9852500   \n",
       "\n",
       "                                                                       \\\n",
       "                PYPL      QCOM      SBUX      SNY     TMUS       TSLA   \n",
       "Date                                                                    \n",
       "2017-01-03   8247400   9519800   7809300  2701400  3004100   29616500   \n",
       "2017-01-04   6806400   6221700   7796300  2819600  5540600   56067500   \n",
       "2017-01-05   6432000   5998900   7602300  2828700  5427200   29558500   \n",
       "2017-01-06   5586400   6749400   8587800  2609700  4776100   27639500   \n",
       "2017-01-09   3943900   4769200  12640500  2358000  3329700   19897500   \n",
       "...              ...       ...       ...      ...      ...        ...   \n",
       "2020-03-23  12969700  14920300  24905800  2652500  8328800   82272500   \n",
       "2020-03-24  13936500  18966800  28286200  4765900  5929100  114476000   \n",
       "2020-03-25  11814400  15969800  22977200  5104600  6252700  106113500   \n",
       "2020-03-26   9451200  15820300  20997500  5019400  4821300   86903500   \n",
       "2020-03-27  11312000   9739100  18950500  3852900  4309600   71887000   \n",
       "\n",
       "                                           \n",
       "                 TXN     WDAY          ZM  \n",
       "Date                                       \n",
       "2017-01-03   4847900  1536500         NaN  \n",
       "2017-01-04   4507100  2543500         NaN  \n",
       "2017-01-05   4301100  2756200         NaN  \n",
       "2017-01-06   5244600  1967400         NaN  \n",
       "2017-01-09   4782900  2341800         NaN  \n",
       "...              ...      ...         ...  \n",
       "2020-03-23   9680700  4102500  27681500.0  \n",
       "2020-03-24   9385700  4523400  22401300.0  \n",
       "2020-03-25  11862100  3338200  14743000.0  \n",
       "2020-03-26  10441400  2838500   9252700.0  \n",
       "2020-03-27   7579200  2027800  13271900.0  \n",
       "\n",
       "[814 rows x 300 columns]"
      ],
      "text/html": "<div>\n<style scoped>\n    .dataframe tbody tr th:only-of-type {\n        vertical-align: middle;\n    }\n\n    .dataframe tbody tr th {\n        vertical-align: top;\n    }\n\n    .dataframe thead tr th {\n        text-align: left;\n    }\n\n    .dataframe thead tr:last-of-type th {\n        text-align: right;\n    }\n</style>\n<table border=\"1\" class=\"dataframe\">\n  <thead>\n    <tr>\n      <th></th>\n      <th colspan=\"10\" halign=\"left\">Adj Close</th>\n      <th>...</th>\n      <th colspan=\"10\" halign=\"left\">Volume</th>\n    </tr>\n    <tr>\n      <th></th>\n      <th>AAPL</th>\n      <th>ABNB</th>\n      <th>ADBE</th>\n      <th>ADP</th>\n      <th>ADSK</th>\n      <th>AMAT</th>\n      <th>AMD</th>\n      <th>AMGN</th>\n      <th>AMZN</th>\n      <th>ASML</th>\n      <th>...</th>\n      <th>PEP</th>\n      <th>PYPL</th>\n      <th>QCOM</th>\n      <th>SBUX</th>\n      <th>SNY</th>\n      <th>TMUS</th>\n      <th>TSLA</th>\n      <th>TXN</th>\n      <th>WDAY</th>\n      <th>ZM</th>\n    </tr>\n    <tr>\n      <th>Date</th>\n      <th></th>\n      <th></th>\n      <th></th>\n      <th></th>\n      <th></th>\n      <th></th>\n      <th></th>\n      <th></th>\n      <th></th>\n      <th></th>\n      <th></th>\n      <th></th>\n      <th></th>\n      <th></th>\n      <th></th>\n      <th></th>\n      <th></th>\n      <th></th>\n      <th></th>\n      <th></th>\n      <th></th>\n    </tr>\n  </thead>\n  <tbody>\n    <tr>\n      <th>2017-01-03</th>\n      <td>27.459938</td>\n      <td>NaN</td>\n      <td>103.480003</td>\n      <td>94.372414</td>\n      <td>76.180000</td>\n      <td>30.123646</td>\n      <td>11.430000</td>\n      <td>133.524841</td>\n      <td>753.669983</td>\n      <td>105.738678</td>\n      <td>...</td>\n      <td>3741200</td>\n      <td>8247400</td>\n      <td>9519800</td>\n      <td>7809300</td>\n      <td>2701400</td>\n      <td>3004100</td>\n      <td>29616500</td>\n      <td>4847900</td>\n      <td>1536500</td>\n      <td>NaN</td>\n    </tr>\n    <tr>\n      <th>2017-01-04</th>\n      <td>27.429203</td>\n      <td>NaN</td>\n      <td>104.139999</td>\n      <td>94.518303</td>\n      <td>77.519997</td>\n      <td>30.406586</td>\n      <td>11.430000</td>\n      <td>135.420578</td>\n      <td>757.179993</td>\n      <td>105.231293</td>\n      <td>...</td>\n      <td>3029700</td>\n      <td>6806400</td>\n      <td>6221700</td>\n      <td>7796300</td>\n      <td>2819600</td>\n      <td>5540600</td>\n      <td>56067500</td>\n      <td>4507100</td>\n      <td>2543500</td>\n      <td>NaN</td>\n    </tr>\n    <tr>\n      <th>2017-01-05</th>\n      <td>27.568691</td>\n      <td>NaN</td>\n      <td>105.910004</td>\n      <td>93.952965</td>\n      <td>76.930000</td>\n      <td>30.274540</td>\n      <td>11.240000</td>\n      <td>135.518021</td>\n      <td>780.450012</td>\n      <td>106.494980</td>\n      <td>...</td>\n      <td>5087200</td>\n      <td>6432000</td>\n      <td>5998900</td>\n      <td>7602300</td>\n      <td>2828700</td>\n      <td>5427200</td>\n      <td>29558500</td>\n      <td>4301100</td>\n      <td>2756200</td>\n      <td>NaN</td>\n    </tr>\n    <tr>\n      <th>2017-01-06</th>\n      <td>27.876030</td>\n      <td>NaN</td>\n      <td>108.300003</td>\n      <td>94.016808</td>\n      <td>79.300003</td>\n      <td>30.217953</td>\n      <td>11.320000</td>\n      <td>138.884232</td>\n      <td>795.989990</td>\n      <td>106.380104</td>\n      <td>...</td>\n      <td>4109700</td>\n      <td>5586400</td>\n      <td>6749400</td>\n      <td>8587800</td>\n      <td>2609700</td>\n      <td>4776100</td>\n      <td>27639500</td>\n      <td>5244600</td>\n      <td>1967400</td>\n      <td>NaN</td>\n    </tr>\n    <tr>\n      <th>2017-01-09</th>\n      <td>28.131361</td>\n      <td>NaN</td>\n      <td>108.570000</td>\n      <td>93.433243</td>\n      <td>79.589996</td>\n      <td>30.915873</td>\n      <td>11.490000</td>\n      <td>140.709106</td>\n      <td>796.919983</td>\n      <td>107.691666</td>\n      <td>...</td>\n      <td>5603500</td>\n      <td>3943900</td>\n      <td>4769200</td>\n      <td>12640500</td>\n      <td>2358000</td>\n      <td>3329700</td>\n      <td>19897500</td>\n      <td>4782900</td>\n      <td>2341800</td>\n      <td>NaN</td>\n    </tr>\n    <tr>\n      <th>...</th>\n      <td>...</td>\n      <td>...</td>\n      <td>...</td>\n      <td>...</td>\n      <td>...</td>\n      <td>...</td>\n      <td>...</td>\n      <td>...</td>\n      <td>...</td>\n      <td>...</td>\n      <td>...</td>\n      <td>...</td>\n      <td>...</td>\n      <td>...</td>\n      <td>...</td>\n      <td>...</td>\n      <td>...</td>\n      <td>...</td>\n      <td>...</td>\n      <td>...</td>\n      <td>...</td>\n    </tr>\n    <tr>\n      <th>2020-03-23</th>\n      <td>55.661041</td>\n      <td>NaN</td>\n      <td>307.269989</td>\n      <td>106.591522</td>\n      <td>144.139999</td>\n      <td>39.684887</td>\n      <td>41.639999</td>\n      <td>180.868484</td>\n      <td>1902.829956</td>\n      <td>231.078842</td>\n      <td>...</td>\n      <td>13926800</td>\n      <td>12969700</td>\n      <td>14920300</td>\n      <td>24905800</td>\n      <td>2652500</td>\n      <td>8328800</td>\n      <td>82272500</td>\n      <td>9680700</td>\n      <td>4102500</td>\n      <td>27681500.0</td>\n    </tr>\n    <tr>\n      <th>2020-03-24</th>\n      <td>61.245258</td>\n      <td>NaN</td>\n      <td>310.000000</td>\n      <td>118.211342</td>\n      <td>149.960007</td>\n      <td>44.594872</td>\n      <td>46.220001</td>\n      <td>196.831772</td>\n      <td>1940.099976</td>\n      <td>257.898468</td>\n      <td>...</td>\n      <td>11447000</td>\n      <td>13936500</td>\n      <td>18966800</td>\n      <td>28286200</td>\n      <td>4765900</td>\n      <td>5929100</td>\n      <td>114476000</td>\n      <td>9385700</td>\n      <td>4523400</td>\n      <td>22401300.0</td>\n    </tr>\n    <tr>\n      <th>2020-03-25</th>\n      <td>60.907871</td>\n      <td>NaN</td>\n      <td>305.910004</td>\n      <td>119.804291</td>\n      <td>149.990005</td>\n      <td>44.189823</td>\n      <td>44.630001</td>\n      <td>187.882217</td>\n      <td>1885.839966</td>\n      <td>259.741943</td>\n      <td>...</td>\n      <td>9485500</td>\n      <td>11814400</td>\n      <td>15969800</td>\n      <td>22977200</td>\n      <td>5104600</td>\n      <td>6252700</td>\n      <td>106113500</td>\n      <td>11862100</td>\n      <td>3338200</td>\n      <td>14743000.0</td>\n    </tr>\n    <tr>\n      <th>2020-03-26</th>\n      <td>64.113029</td>\n      <td>NaN</td>\n      <td>322.670013</td>\n      <td>133.945496</td>\n      <td>160.880005</td>\n      <td>48.605839</td>\n      <td>47.500000</td>\n      <td>193.086594</td>\n      <td>1955.489990</td>\n      <td>273.449097</td>\n      <td>...</td>\n      <td>10376800</td>\n      <td>9451200</td>\n      <td>15820300</td>\n      <td>20997500</td>\n      <td>5019400</td>\n      <td>4821300</td>\n      <td>86903500</td>\n      <td>10441400</td>\n      <td>2838500</td>\n      <td>9252700.0</td>\n    </tr>\n    <tr>\n      <th>2020-03-27</th>\n      <td>61.458603</td>\n      <td>NaN</td>\n      <td>305.829987</td>\n      <td>128.394562</td>\n      <td>141.570007</td>\n      <td>44.505955</td>\n      <td>46.580002</td>\n      <td>192.872574</td>\n      <td>1900.099976</td>\n      <td>250.375885</td>\n      <td>...</td>\n      <td>9852500</td>\n      <td>11312000</td>\n      <td>9739100</td>\n      <td>18950500</td>\n      <td>3852900</td>\n      <td>4309600</td>\n      <td>71887000</td>\n      <td>7579200</td>\n      <td>2027800</td>\n      <td>13271900.0</td>\n    </tr>\n  </tbody>\n</table>\n<p>814 rows × 300 columns</p>\n</div>"
     },
     "metadata": {},
     "execution_count": 36
    }
   ],
   "source": [
    "data"
   ]
  },
  {
   "cell_type": "code",
   "execution_count": null,
   "metadata": {},
   "outputs": [],
   "source": []
  }
 ]
}