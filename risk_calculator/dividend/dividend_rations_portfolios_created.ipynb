{
 "metadata": {
  "language_info": {
   "codemirror_mode": {
    "name": "ipython",
    "version": 3
   },
   "file_extension": ".py",
   "mimetype": "text/x-python",
   "name": "python",
   "nbconvert_exporter": "python",
   "pygments_lexer": "ipython3",
   "version": "3.9.2-final"
  },
  "orig_nbformat": 2,
  "kernelspec": {
   "name": "python392jvsc74a57bd0da095f86ab32f3490c8b4dc37c23fc1d5409d02f5085c89ebb1e0696d14ca30b",
   "display_name": "Python 3.9.2 64-bit ('prjenv': conda)"
  }
 },
 "nbformat": 4,
 "nbformat_minor": 2,
 "cells": [
  {
   "cell_type": "code",
   "execution_count": 1,
   "metadata": {},
   "outputs": [],
   "source": [
    "import yahoo_fin.stock_info as yf\n",
    "import pandas as pd\n",
    "import warnings\n",
    "warnings.filterwarnings('ignore')"
   ]
  },
  {
   "cell_type": "code",
   "execution_count": 28,
   "metadata": {},
   "outputs": [],
   "source": [
    "nasdaq_ticker = pd.read_csv('./data/nasdaq_screener.csv')\n",
    "nasdaq_ticker.sort_values(['Market Cap'],ascending=False)\n",
    "fifty_largest= nasdaq_ticker.nlargest(50,'Market Cap')\n",
    "twenty_largest= nasdaq_ticker.nlargest(20,'Market Cap')\n",
    "ticker_list_twenty = twenty_largest['Symbol'].to_list()\n",
    "ticker_list = tuple(ticker_list_twenty)"
   ]
  },
  {
   "cell_type": "code",
   "execution_count": 29,
   "metadata": {},
   "outputs": [],
   "source": [
    "def get_company_financials(ticker_list):\n",
    "    all_financials = {}\n",
    "    if not ticker_list:\n",
    "         return \"Please provide atleast one ticker\"\n",
    "    else: \n",
    "        # avoid looping through dataframes due to loc index issues\n",
    "        ticker_list = list(ticker_list)\n",
    "        for tick in ticker_list:\n",
    "            ticker_report ={}\n",
    "            dict_financials  = yf.get_financials(tick,yearly =True, quarterly = False)\n",
    "            ticker_report[\"income_statement\"]= dict_financials['yearly_income_statement'].fillna(0)\n",
    "            ticker_report[\"balance_sheet\"] = dict_financials['yearly_balance_sheet'].fillna(0)\n",
    "            ticker_report[\"yearly_cash_flow\"] = dict_financials['yearly_cash_flow'].fillna(0)\n",
    "            all_financials[tick] = ticker_report\n",
    "    return all_financials"
   ]
  },
  {
   "cell_type": "code",
   "execution_count": 30,
   "metadata": {},
   "outputs": [],
   "source": [
    "def get_company_performance(ticker_list):\n",
    "\n",
    "    all_performance = {}\n",
    "    if not ticker_list:\n",
    "         return \"Please provide atleast one ticker\"\n",
    "    else: \n",
    "        ticker_list = list(ticker_list)\n",
    "        for tick in ticker_list:\n",
    "            performance = {}\n",
    "\n",
    "            try:\n",
    "                dividend = yf.get_dividends(tick)\n",
    "                performance[\"dividend\"] = dividend\n",
    "                earnings = yf.get_earnings_history(tick)\n",
    "                performance[\"earnings\"] = pd.DataFrame(earnings)\n",
    "                all_performance[tick] = performance\n",
    "                # catch exceptions raised on no data available\n",
    "            except Exception as e : \n",
    "                ticker_list.remove(tick)\n",
    "                #print(f\"No dividend for {tick}\") \n",
    "                \n",
    "    return all_performance  \n",
    "\n"
   ]
  },
  {
   "cell_type": "code",
   "execution_count": 17,
   "metadata": {},
   "outputs": [],
   "source": [
    "def get_financial_stats(ticker_list):\n",
    "    all_fin_stats = {}\n",
    "    if not ticker_list:\n",
    "         return \"Please provide atleast one ticker\"\n",
    "    else:\n",
    "        ticker_list = list(ticker_list) \n",
    "        for tick in ticker_list:\n",
    "            try:\n",
    "                fin_stats = yf.get_stats(tick)\n",
    "                all_fin_stats[tick] = fin_stats\n",
    "            except Exception as e:\n",
    "                print(e)\n",
    "                #ticker_list.remove(tick)\n",
    "    return all_fin_stats"
   ]
  },
  {
   "cell_type": "code",
   "execution_count": 32,
   "metadata": {},
   "outputs": [],
   "source": [
    "all_financials={}\n",
    "all_performance={}\n",
    "while  not (bool(all_financials)):\n",
    "    all_financials = get_company_financials(ticker_list)\n",
    "\n"
   ]
  },
  {
   "cell_type": "code",
   "execution_count": 38,
   "metadata": {},
   "outputs": [],
   "source": [
    "while not (bool(all_performance)):\n",
    "    all_performance = get_company_performance(ticker_list)"
   ]
  },
  {
   "cell_type": "code",
   "execution_count": 19,
   "metadata": {},
   "outputs": [],
   "source": [
    "all_financial_stats={}\n",
    "while not (bool(all_financial_stats)):\n",
    "    all_financial_stats = get_financial_stats(ticker_list)"
   ]
  },
  {
   "cell_type": "code",
   "execution_count": 23,
   "metadata": {},
   "outputs": [],
   "source": [
    "beta_stats = {}\n",
    "df_Beta= pd.DataFrame(columns=['BETA'],index= [\"Ticker\"])\n",
    "for tick in all_financial_stats.keys():\n",
    "    fin_df = all_financial_stats[tick]\n",
    "    if (\"Attribute\" in fin_df.columns):\n",
    "        fin_attr = fin_df.set_index(\"Attribute\")\n",
    "        beta = fin_attr.loc[\"Beta (5Y Monthly)\"].values[0]\n",
    "        #print(f\"here {tick}\")\n",
    "        #df_Beta.index.append(tick)\n",
    "        df_Beta.loc[tick]=beta\n",
    "        #df_Beta.at[tick,\"BETA\"] = beta\n",
    "    else:\n",
    "        print (f\"Skipped {tick}\") \n",
    "        # \n",
    "df_Beta.dropna(inplace=True)\n"
   ]
  },
  {
   "cell_type": "code",
   "execution_count": 34,
   "metadata": {},
   "outputs": [],
   "source": [
    "list_dfs_FCFE  = []\n",
    "list_dfs_ND2EB = []\n",
    "cf_labels = ['netBorrowings','capitalExpenditures','depreciation']\n",
    "is_labels = [\"netIncome\",'ebit']\n",
    "\n",
    "df_ratios = pd.DataFrame()\n",
    "for tick in all_financials.keys():\n",
    "    stock_ratios ={}\n",
    "    yearly_cash_flow = all_financials[tick][\"yearly_cash_flow\"]\n",
    "    income_stmnt = all_financials[tick][\"income_statement\"]\n",
    "    if (cf_labels[0] in yearly_cash_flow.index) and (cf_labels[1] in yearly_cash_flow.index):\n",
    "         capex = yearly_cash_flow.loc[cf_labels[1]]\n",
    "         net_borrow = yearly_cash_flow.loc[cf_labels[0]]\n",
    "         depreciation = yearly_cash_flow.loc[cf_labels[2]]\n",
    "    else: \n",
    "        #print(tick)\n",
    "        del all_financials[tick]    \n",
    "    if is_labels[0] in income_stmnt.index:\n",
    "        net_income = income_stmnt.loc[\"netIncome\"]\n",
    "        ebit = income_stmnt.loc[\"ebit\"]\n",
    "    else: \n",
    "        #print(tick)\n",
    "        del all_financials[tick]\n",
    "    FCFE = net_income - capex + net_borrow\n",
    "    ND_to_EB = net_borrow / (ebit + depreciation)\n",
    "    #print(f\"Ticker {tick} has FCFE of {FCFE}\")\n",
    "    df_FCFE = pd.DataFrame(FCFE).transpose()\n",
    "    df_ND2EB = pd.DataFrame(ND_to_EB).transpose()\n",
    "    \n",
    "    df_ND2EB.columns = df_ND2EB.columns.year\n",
    "    df_ND2EB['Ticker'] = pd.Series(tick, index=df_ND2EB.index)\n",
    "    list_dfs_ND2EB.append(df_ND2EB)\n",
    "    \n",
    "    df_FCFE.columns = df_FCFE.columns.year\n",
    "    df_FCFE['Ticker'] = pd.Series(tick, index=df_FCFE.index)\n",
    "    list_dfs_FCFE.append(df_FCFE)\n",
    "   "
   ]
  },
  {
   "cell_type": "code",
   "execution_count": 35,
   "metadata": {},
   "outputs": [],
   "source": [
    "#concat and clean\n",
    "df_all_ND2EB = pd.concat(list_dfs_ND2EB).set_index(\"Ticker\")\n",
    "df_all_ND2EB = df_all_ND2EB.drop(columns=(min(df_all_ND2EB.columns) + 4),axis=1,errors='ignore')\n",
    "df_all_FCFE = pd.concat(list_dfs_FCFE).set_index(\"Ticker\")\n",
    "df_all_FCFE= df_all_FCFE.drop(columns=(min(df_all_FCFE.columns) + 4),axis=1,errors='ignore')\n",
    "df_all_ND2EB.columns.name= \"year\"\n",
    "df_all_FCFE.columns.name= \"year\""
   ]
  },
  {
   "cell_type": "code",
   "execution_count": 42,
   "metadata": {},
   "outputs": [],
   "source": [
    "all_div_payout= []\n",
    "all_div_coverage=[]\n",
    "\n",
    "for tick in all_performance.keys():\n",
    "    \n",
    "    divi = all_performance[tick]['dividend']\n",
    "    ann_total_divi = divi.groupby(divi.index.year).sum()\n",
    "    ann_total_divi = ann_total_divi.T\n",
    "    ann_total_divi = ann_total_divi[ann_total_divi.columns.intersection(df_all_FCFE.columns)]\n",
    "   \n",
    "    earnings = all_performance[tick]['earnings']\n",
    "    eps = earnings[[\"startdatetime\",\"epsactual\"]]\n",
    "    eps.loc[:, (\"startdatetime\")] = pd.to_datetime(eps.loc[:, (\"startdatetime\")], errors=\"coerce\",format=\"%Y-%m-%d\")\n",
    "    eps_annual = eps.groupby(eps.loc[:, (\"startdatetime\")].dt.year).sum()\n",
    "    eps_annual = eps_annual.T\n",
    "    eps_annual = eps_annual[eps_annual.columns.intersection(df_all_FCFE.columns)]\n",
    "    div_coverage = pd.DataFrame(eps_annual.loc['epsactual'] / ann_total_divi.loc[\"dividend\"]).T\n",
    "    div_coverage[\"Ticker\"] = tick\n",
    "    div_coverage =div_coverage.set_index(\"Ticker\")\n",
    "    all_div_coverage.append(div_coverage.dropna())\n",
    "   \n",
    "    div_payout =  pd.DataFrame(ann_total_divi.loc[\"dividend\"] / eps_annual.loc['epsactual']).T\n",
    "    div_payout[\"Ticker\"] = tick\n",
    "    div_payout =div_payout.set_index(\"Ticker\")\n",
    "    all_div_payout.append(div_payout.dropna())\n",
    "   "
   ]
  },
  {
   "cell_type": "code",
   "execution_count": 43,
   "metadata": {},
   "outputs": [],
   "source": [
    "#concat and clean\n",
    "df_div_payout = pd.concat(all_div_payout)\n",
    "df_div_payout.columns.name= \"year\"\n",
    "df_div_coverage= pd.concat(all_div_coverage)\n",
    "df_div_coverage.columns.name= \"year\""
   ]
  },
  {
   "cell_type": "code",
   "execution_count": 44,
   "metadata": {},
   "outputs": [],
   "source": [
    "df_div_payout['mean'] = df_div_payout.mean(axis=1)"
   ]
  },
  {
   "cell_type": "code",
   "execution_count": 45,
   "metadata": {},
   "outputs": [],
   "source": [
    "df_div_payout_ordered = df_div_payout.sort_values(by=['mean'], ascending= False)\n",
    "df_div_payout_ordered = df_div_payout_ordered.reset_index()"
   ]
  },
  {
   "cell_type": "code",
   "execution_count": 46,
   "metadata": {},
   "outputs": [],
   "source": [
    "df_div_coverage['mean'] = df_div_coverage.mean(axis=1)"
   ]
  },
  {
   "cell_type": "code",
   "execution_count": 47,
   "metadata": {},
   "outputs": [
    {
     "output_type": "execute_result",
     "data": {
      "text/plain": [
       "year Ticker       2017       2018      2019      2020      mean\n",
       "0      AAPL  14.959350  13.744681  3.921053  4.049536  9.168655\n",
       "1     CMCSA   4.261603   2.625272  4.714286  3.155556  3.689179\n",
       "2      ASML   3.955624   3.958091  1.718223  2.095305  2.931810\n",
       "3      MSFT   2.125786   2.430233  2.640212  2.961722  2.539488\n",
       "4      CSCO   2.115044   2.140625  2.304348  2.181818  2.185459\n",
       "5      AVGO   3.328482   1.827193  1.902679  1.658427  2.179195\n",
       "6       TXN   1.948113   2.060837  1.676012  1.422043  1.776751\n",
       "7       PEP   1.616162   1.524101  1.465858  1.366799  1.493230"
      ],
      "text/html": "<div>\n<style scoped>\n    .dataframe tbody tr th:only-of-type {\n        vertical-align: middle;\n    }\n\n    .dataframe tbody tr th {\n        vertical-align: top;\n    }\n\n    .dataframe thead th {\n        text-align: right;\n    }\n</style>\n<table border=\"1\" class=\"dataframe\">\n  <thead>\n    <tr style=\"text-align: right;\">\n      <th>year</th>\n      <th>Ticker</th>\n      <th>2017</th>\n      <th>2018</th>\n      <th>2019</th>\n      <th>2020</th>\n      <th>mean</th>\n    </tr>\n  </thead>\n  <tbody>\n    <tr>\n      <th>0</th>\n      <td>AAPL</td>\n      <td>14.959350</td>\n      <td>13.744681</td>\n      <td>3.921053</td>\n      <td>4.049536</td>\n      <td>9.168655</td>\n    </tr>\n    <tr>\n      <th>1</th>\n      <td>CMCSA</td>\n      <td>4.261603</td>\n      <td>2.625272</td>\n      <td>4.714286</td>\n      <td>3.155556</td>\n      <td>3.689179</td>\n    </tr>\n    <tr>\n      <th>2</th>\n      <td>ASML</td>\n      <td>3.955624</td>\n      <td>3.958091</td>\n      <td>1.718223</td>\n      <td>2.095305</td>\n      <td>2.931810</td>\n    </tr>\n    <tr>\n      <th>3</th>\n      <td>MSFT</td>\n      <td>2.125786</td>\n      <td>2.430233</td>\n      <td>2.640212</td>\n      <td>2.961722</td>\n      <td>2.539488</td>\n    </tr>\n    <tr>\n      <th>4</th>\n      <td>CSCO</td>\n      <td>2.115044</td>\n      <td>2.140625</td>\n      <td>2.304348</td>\n      <td>2.181818</td>\n      <td>2.185459</td>\n    </tr>\n    <tr>\n      <th>5</th>\n      <td>AVGO</td>\n      <td>3.328482</td>\n      <td>1.827193</td>\n      <td>1.902679</td>\n      <td>1.658427</td>\n      <td>2.179195</td>\n    </tr>\n    <tr>\n      <th>6</th>\n      <td>TXN</td>\n      <td>1.948113</td>\n      <td>2.060837</td>\n      <td>1.676012</td>\n      <td>1.422043</td>\n      <td>1.776751</td>\n    </tr>\n    <tr>\n      <th>7</th>\n      <td>PEP</td>\n      <td>1.616162</td>\n      <td>1.524101</td>\n      <td>1.465858</td>\n      <td>1.366799</td>\n      <td>1.493230</td>\n    </tr>\n  </tbody>\n</table>\n</div>"
     },
     "metadata": {},
     "execution_count": 47
    }
   ],
   "source": [
    "df_div_coverage_ordered = df_div_coverage.sort_values(by=['mean'], ascending= False)\n",
    "df_div_coverage_ordered = df_div_coverage_ordered.reset_index()\n",
    "df_div_coverage_ordered"
   ]
  },
  {
   "cell_type": "code",
   "execution_count": 48,
   "metadata": {},
   "outputs": [],
   "source": [
    "df_all_FCFE['mean'] = df_all_FCFE.mean(axis=1)"
   ]
  },
  {
   "cell_type": "code",
   "execution_count": 50,
   "metadata": {},
   "outputs": [
    {
     "output_type": "execute_result",
     "data": {
      "text/plain": [
       "year        2020      2019      2018        2017        mean\n",
       "Ticker                                                      \n",
       "AAPL    0.032310 -0.102240  0.005281    0.405785    0.085284\n",
       "MSFT   -0.084555 -0.073315 -0.226901    0.847244    0.115618\n",
       "AMZN   -0.022928 -0.278120 -0.276853    0.637064    0.014790\n",
       "GOOG    0.175965 -0.005568 -0.001466   -0.002401    0.041633\n",
       "GOOGL   0.175965 -0.005568 -0.001466   -0.002401    0.041633\n",
       "FB     -0.014671 -0.022317  0.017107    0.021526    0.000411\n",
       "TSLA   -0.582261  0.367403  0.054434  846.250000  211.522394\n",
       "NVDA    1.539510 -0.003935 -0.238193         NaN    0.432461\n",
       "PYPL    0.923399  0.866315  0.351262    0.302583    0.610890\n",
       "INTC    0.158438  0.023005 -0.080516   -0.013703    0.021806\n",
       "ASML    0.333258 -0.001204 -0.000827   -0.085162    0.061516\n",
       "CMCSA  -0.004347 -0.146370  1.205437    0.115390    0.292527\n",
       "NFLX    0.214734  1.650510  2.346536    3.317091    1.882218\n",
       "ADBE   -0.001248 -0.001557  0.705587   -0.000786    0.175499\n",
       "CSCO   -0.644040 -0.068022 -0.540687    0.363450   -0.222325\n",
       "AVGO    0.690542  1.305257 -0.101693    0.506060    0.600041\n",
       "PEP     0.855336 -0.027441 -0.553814    0.160507    0.108647\n",
       "TXN     0.145566  0.110961  0.131718    0.068795    0.114260\n",
       "PDD    -0.000000 -1.008828 -1.832625  -13.660125   -4.125394\n",
       "TMUS    0.561410 -0.167696 -0.154699   -0.050390    0.047156"
      ],
      "text/html": "<div>\n<style scoped>\n    .dataframe tbody tr th:only-of-type {\n        vertical-align: middle;\n    }\n\n    .dataframe tbody tr th {\n        vertical-align: top;\n    }\n\n    .dataframe thead th {\n        text-align: right;\n    }\n</style>\n<table border=\"1\" class=\"dataframe\">\n  <thead>\n    <tr style=\"text-align: right;\">\n      <th>year</th>\n      <th>2020</th>\n      <th>2019</th>\n      <th>2018</th>\n      <th>2017</th>\n      <th>mean</th>\n    </tr>\n    <tr>\n      <th>Ticker</th>\n      <th></th>\n      <th></th>\n      <th></th>\n      <th></th>\n      <th></th>\n    </tr>\n  </thead>\n  <tbody>\n    <tr>\n      <th>AAPL</th>\n      <td>0.032310</td>\n      <td>-0.102240</td>\n      <td>0.005281</td>\n      <td>0.405785</td>\n      <td>0.085284</td>\n    </tr>\n    <tr>\n      <th>MSFT</th>\n      <td>-0.084555</td>\n      <td>-0.073315</td>\n      <td>-0.226901</td>\n      <td>0.847244</td>\n      <td>0.115618</td>\n    </tr>\n    <tr>\n      <th>AMZN</th>\n      <td>-0.022928</td>\n      <td>-0.278120</td>\n      <td>-0.276853</td>\n      <td>0.637064</td>\n      <td>0.014790</td>\n    </tr>\n    <tr>\n      <th>GOOG</th>\n      <td>0.175965</td>\n      <td>-0.005568</td>\n      <td>-0.001466</td>\n      <td>-0.002401</td>\n      <td>0.041633</td>\n    </tr>\n    <tr>\n      <th>GOOGL</th>\n      <td>0.175965</td>\n      <td>-0.005568</td>\n      <td>-0.001466</td>\n      <td>-0.002401</td>\n      <td>0.041633</td>\n    </tr>\n    <tr>\n      <th>FB</th>\n      <td>-0.014671</td>\n      <td>-0.022317</td>\n      <td>0.017107</td>\n      <td>0.021526</td>\n      <td>0.000411</td>\n    </tr>\n    <tr>\n      <th>TSLA</th>\n      <td>-0.582261</td>\n      <td>0.367403</td>\n      <td>0.054434</td>\n      <td>846.250000</td>\n      <td>211.522394</td>\n    </tr>\n    <tr>\n      <th>NVDA</th>\n      <td>1.539510</td>\n      <td>-0.003935</td>\n      <td>-0.238193</td>\n      <td>NaN</td>\n      <td>0.432461</td>\n    </tr>\n    <tr>\n      <th>PYPL</th>\n      <td>0.923399</td>\n      <td>0.866315</td>\n      <td>0.351262</td>\n      <td>0.302583</td>\n      <td>0.610890</td>\n    </tr>\n    <tr>\n      <th>INTC</th>\n      <td>0.158438</td>\n      <td>0.023005</td>\n      <td>-0.080516</td>\n      <td>-0.013703</td>\n      <td>0.021806</td>\n    </tr>\n    <tr>\n      <th>ASML</th>\n      <td>0.333258</td>\n      <td>-0.001204</td>\n      <td>-0.000827</td>\n      <td>-0.085162</td>\n      <td>0.061516</td>\n    </tr>\n    <tr>\n      <th>CMCSA</th>\n      <td>-0.004347</td>\n      <td>-0.146370</td>\n      <td>1.205437</td>\n      <td>0.115390</td>\n      <td>0.292527</td>\n    </tr>\n    <tr>\n      <th>NFLX</th>\n      <td>0.214734</td>\n      <td>1.650510</td>\n      <td>2.346536</td>\n      <td>3.317091</td>\n      <td>1.882218</td>\n    </tr>\n    <tr>\n      <th>ADBE</th>\n      <td>-0.001248</td>\n      <td>-0.001557</td>\n      <td>0.705587</td>\n      <td>-0.000786</td>\n      <td>0.175499</td>\n    </tr>\n    <tr>\n      <th>CSCO</th>\n      <td>-0.644040</td>\n      <td>-0.068022</td>\n      <td>-0.540687</td>\n      <td>0.363450</td>\n      <td>-0.222325</td>\n    </tr>\n    <tr>\n      <th>AVGO</th>\n      <td>0.690542</td>\n      <td>1.305257</td>\n      <td>-0.101693</td>\n      <td>0.506060</td>\n      <td>0.600041</td>\n    </tr>\n    <tr>\n      <th>PEP</th>\n      <td>0.855336</td>\n      <td>-0.027441</td>\n      <td>-0.553814</td>\n      <td>0.160507</td>\n      <td>0.108647</td>\n    </tr>\n    <tr>\n      <th>TXN</th>\n      <td>0.145566</td>\n      <td>0.110961</td>\n      <td>0.131718</td>\n      <td>0.068795</td>\n      <td>0.114260</td>\n    </tr>\n    <tr>\n      <th>PDD</th>\n      <td>-0.000000</td>\n      <td>-1.008828</td>\n      <td>-1.832625</td>\n      <td>-13.660125</td>\n      <td>-4.125394</td>\n    </tr>\n    <tr>\n      <th>TMUS</th>\n      <td>0.561410</td>\n      <td>-0.167696</td>\n      <td>-0.154699</td>\n      <td>-0.050390</td>\n      <td>0.047156</td>\n    </tr>\n  </tbody>\n</table>\n</div>"
     },
     "metadata": {},
     "execution_count": 50
    }
   ],
   "source": [
    "df_all_ND2EB['mean'] = df_all_ND2EB.mean(axis=1)\n",
    "#df_all_ND2EB\n"
   ]
  },
  {
   "cell_type": "code",
   "execution_count": 51,
   "metadata": {},
   "outputs": [
    {
     "output_type": "execute_result",
     "data": {
      "text/plain": [
       "year Ticker          2020          2019          2018          2017  \\\n",
       "0      AAPL  6.721900e+10  5.793200e+10  7.327600e+10  8.981600e+10   \n",
       "1      MSFT  5.420400e+10  4.916500e+10  1.800200e+10  6.507700e+10   \n",
       "2     CMCSA  2.107800e+10  1.913800e+10  5.832700e+10  3.555300e+10   \n",
       "3       PEP  2.265300e+10  1.119100e+10  8.835000e+09  9.876000e+09   \n",
       "4      AVGO  1.112600e+10  1.639000e+10  1.192100e+10  6.519000e+09   \n",
       "5       TXN  7.242000e+09  6.605000e+09  7.711000e+09  4.851000e+09   \n",
       "6      CSCO  1.794000e+09  1.144600e+10 -7.056000e+09  1.589900e+10   \n",
       "7      ASML  5.998700e+09  3.355100e+09  3.162800e+09  2.162600e+09   \n",
       "\n",
       "year          mean  \n",
       "0     7.206075e+10  \n",
       "1     4.661200e+10  \n",
       "2     3.352400e+10  \n",
       "3     1.313875e+10  \n",
       "4     1.148900e+10  \n",
       "5     6.602250e+09  \n",
       "6     5.520750e+09  \n",
       "7     3.669800e+09  "
      ],
      "text/html": "<div>\n<style scoped>\n    .dataframe tbody tr th:only-of-type {\n        vertical-align: middle;\n    }\n\n    .dataframe tbody tr th {\n        vertical-align: top;\n    }\n\n    .dataframe thead th {\n        text-align: right;\n    }\n</style>\n<table border=\"1\" class=\"dataframe\">\n  <thead>\n    <tr style=\"text-align: right;\">\n      <th>year</th>\n      <th>Ticker</th>\n      <th>2020</th>\n      <th>2019</th>\n      <th>2018</th>\n      <th>2017</th>\n      <th>mean</th>\n    </tr>\n  </thead>\n  <tbody>\n    <tr>\n      <th>0</th>\n      <td>AAPL</td>\n      <td>6.721900e+10</td>\n      <td>5.793200e+10</td>\n      <td>7.327600e+10</td>\n      <td>8.981600e+10</td>\n      <td>7.206075e+10</td>\n    </tr>\n    <tr>\n      <th>1</th>\n      <td>MSFT</td>\n      <td>5.420400e+10</td>\n      <td>4.916500e+10</td>\n      <td>1.800200e+10</td>\n      <td>6.507700e+10</td>\n      <td>4.661200e+10</td>\n    </tr>\n    <tr>\n      <th>2</th>\n      <td>CMCSA</td>\n      <td>2.107800e+10</td>\n      <td>1.913800e+10</td>\n      <td>5.832700e+10</td>\n      <td>3.555300e+10</td>\n      <td>3.352400e+10</td>\n    </tr>\n    <tr>\n      <th>3</th>\n      <td>PEP</td>\n      <td>2.265300e+10</td>\n      <td>1.119100e+10</td>\n      <td>8.835000e+09</td>\n      <td>9.876000e+09</td>\n      <td>1.313875e+10</td>\n    </tr>\n    <tr>\n      <th>4</th>\n      <td>AVGO</td>\n      <td>1.112600e+10</td>\n      <td>1.639000e+10</td>\n      <td>1.192100e+10</td>\n      <td>6.519000e+09</td>\n      <td>1.148900e+10</td>\n    </tr>\n    <tr>\n      <th>5</th>\n      <td>TXN</td>\n      <td>7.242000e+09</td>\n      <td>6.605000e+09</td>\n      <td>7.711000e+09</td>\n      <td>4.851000e+09</td>\n      <td>6.602250e+09</td>\n    </tr>\n    <tr>\n      <th>6</th>\n      <td>CSCO</td>\n      <td>1.794000e+09</td>\n      <td>1.144600e+10</td>\n      <td>-7.056000e+09</td>\n      <td>1.589900e+10</td>\n      <td>5.520750e+09</td>\n    </tr>\n    <tr>\n      <th>7</th>\n      <td>ASML</td>\n      <td>5.998700e+09</td>\n      <td>3.355100e+09</td>\n      <td>3.162800e+09</td>\n      <td>2.162600e+09</td>\n      <td>3.669800e+09</td>\n    </tr>\n  </tbody>\n</table>\n</div>"
     },
     "metadata": {},
     "execution_count": 51
    }
   ],
   "source": [
    "df_with_divi_FCFE = df_all_FCFE[df_all_FCFE.index.isin(df_div_payout.index)].sort_values(by=['mean'], ascending= False)\n",
    "# df_with_divi_FCFE[\"Rank\"]= lambda t: .strftime('%d-%b-%Y'), inplace=True)\n",
    "df_with_divi_FCFE = df_with_divi_FCFE.reset_index()\n",
    "df_with_divi_FCFE"
   ]
  },
  {
   "cell_type": "code",
   "execution_count": 52,
   "metadata": {},
   "outputs": [
    {
     "output_type": "execute_result",
     "data": {
      "text/plain": [
       "year Ticker      2020      2019      2018      2017      mean\n",
       "0      AVGO  0.690542  1.305257 -0.101693  0.506060  0.600041\n",
       "1     CMCSA -0.004347 -0.146370  1.205437  0.115390  0.292527\n",
       "2      MSFT -0.084555 -0.073315 -0.226901  0.847244  0.115618\n",
       "3       TXN  0.145566  0.110961  0.131718  0.068795  0.114260\n",
       "4       PEP  0.855336 -0.027441 -0.553814  0.160507  0.108647\n",
       "5      AAPL  0.032310 -0.102240  0.005281  0.405785  0.085284\n",
       "6      ASML  0.333258 -0.001204 -0.000827 -0.085162  0.061516\n",
       "7      CSCO -0.644040 -0.068022 -0.540687  0.363450 -0.222325"
      ],
      "text/html": "<div>\n<style scoped>\n    .dataframe tbody tr th:only-of-type {\n        vertical-align: middle;\n    }\n\n    .dataframe tbody tr th {\n        vertical-align: top;\n    }\n\n    .dataframe thead th {\n        text-align: right;\n    }\n</style>\n<table border=\"1\" class=\"dataframe\">\n  <thead>\n    <tr style=\"text-align: right;\">\n      <th>year</th>\n      <th>Ticker</th>\n      <th>2020</th>\n      <th>2019</th>\n      <th>2018</th>\n      <th>2017</th>\n      <th>mean</th>\n    </tr>\n  </thead>\n  <tbody>\n    <tr>\n      <th>0</th>\n      <td>AVGO</td>\n      <td>0.690542</td>\n      <td>1.305257</td>\n      <td>-0.101693</td>\n      <td>0.506060</td>\n      <td>0.600041</td>\n    </tr>\n    <tr>\n      <th>1</th>\n      <td>CMCSA</td>\n      <td>-0.004347</td>\n      <td>-0.146370</td>\n      <td>1.205437</td>\n      <td>0.115390</td>\n      <td>0.292527</td>\n    </tr>\n    <tr>\n      <th>2</th>\n      <td>MSFT</td>\n      <td>-0.084555</td>\n      <td>-0.073315</td>\n      <td>-0.226901</td>\n      <td>0.847244</td>\n      <td>0.115618</td>\n    </tr>\n    <tr>\n      <th>3</th>\n      <td>TXN</td>\n      <td>0.145566</td>\n      <td>0.110961</td>\n      <td>0.131718</td>\n      <td>0.068795</td>\n      <td>0.114260</td>\n    </tr>\n    <tr>\n      <th>4</th>\n      <td>PEP</td>\n      <td>0.855336</td>\n      <td>-0.027441</td>\n      <td>-0.553814</td>\n      <td>0.160507</td>\n      <td>0.108647</td>\n    </tr>\n    <tr>\n      <th>5</th>\n      <td>AAPL</td>\n      <td>0.032310</td>\n      <td>-0.102240</td>\n      <td>0.005281</td>\n      <td>0.405785</td>\n      <td>0.085284</td>\n    </tr>\n    <tr>\n      <th>6</th>\n      <td>ASML</td>\n      <td>0.333258</td>\n      <td>-0.001204</td>\n      <td>-0.000827</td>\n      <td>-0.085162</td>\n      <td>0.061516</td>\n    </tr>\n    <tr>\n      <th>7</th>\n      <td>CSCO</td>\n      <td>-0.644040</td>\n      <td>-0.068022</td>\n      <td>-0.540687</td>\n      <td>0.363450</td>\n      <td>-0.222325</td>\n    </tr>\n  </tbody>\n</table>\n</div>"
     },
     "metadata": {},
     "execution_count": 52
    }
   ],
   "source": [
    "df_with_divi_ND2EB = df_all_ND2EB[df_all_ND2EB.index.isin(df_div_payout.index)].sort_values(by=['mean'], ascending= False)\n",
    "df_with_divi_ND2EB = df_with_divi_ND2EB.reset_index()\n",
    "df_with_divi_ND2EB"
   ]
  },
  {
   "cell_type": "code",
   "execution_count": 53,
   "metadata": {},
   "outputs": [],
   "source": [
    "ranked_dfs = []\n",
    "df_with_divi_ND2EB.name=\"ND2EB\"\n",
    "df_with_divi_FCFE.name=\"FCFE\"\n",
    "df_div_coverage_ordered.name=\"div_coverage\"\n",
    "df_div_payout_ordered.name=\"div_payout\"\n",
    "ranked_dfs.append(df_with_divi_ND2EB)\n",
    "ranked_dfs.append(df_with_divi_FCFE)\n",
    "ranked_dfs.append(df_div_coverage_ordered)\n",
    "ranked_dfs.append(df_div_payout_ordered)\n"
   ]
  },
  {
   "source": [
    "#### P1 add all the ranks and select the lowest 5 and add government bond\n",
    "#### P2  add all and select five\n",
    "#### P3 dividend payout ration - 20% 1 share  , grwoing company eps  40% 4 shares, 40 % - i tB\n",
    "#### P4 stable 10% as p1 1number, hish risk based on beta 65 % 3number  t bill 5 %, crypto 20 1number \n",
    "### p5 crpto 45%   2 number , beta 50% 3 number , Tbill 5 % 1\n",
    "###  Crypto bitcoin \n",
    "###  Ethereum\n",
    "###  portfolio and weights "
   ],
   "cell_type": "markdown",
   "metadata": {}
  },
  {
   "cell_type": "code",
   "execution_count": 59,
   "metadata": {},
   "outputs": [
    {
     "output_type": "execute_result",
     "data": {
      "text/plain": [
       "array(['AAPL', 'MSFT', 'ASML', 'CMCSA', 'CSCO', 'AVGO', 'PEP', 'TXN'],\n",
       "      dtype=object)"
      ]
     },
     "metadata": {},
     "execution_count": 59
    }
   ],
   "source": [
    "available_stocks = df_div_payout.index.values\n",
    "available_stocks"
   ]
  },
  {
   "cell_type": "code",
   "execution_count": 60,
   "metadata": {},
   "outputs": [],
   "source": [
    "available_stocks = df_div_payout.index.values\n",
    "score_each={}\n",
    "score_each_debug={}\n",
    "for df in ranked_dfs:\n",
    "    for tick in available_stocks:\n",
    "       if tick not in score_each:\n",
    "            score_each[tick] = 0             \n",
    "       score_each[tick] = score_each[tick] + df[df[\"Ticker\"] == tick ].index.values[0]\n",
    "       "
   ]
  },
  {
   "cell_type": "code",
   "execution_count": 61,
   "metadata": {},
   "outputs": [
    {
     "output_type": "execute_result",
     "data": {
      "text/plain": [
       "{'AAPL': 12,\n",
       " 'MSFT': 10,\n",
       " 'ASML': 20,\n",
       " 'CMCSA': 10,\n",
       " 'CSCO': 20,\n",
       " 'AVGO': 11,\n",
       " 'PEP': 14,\n",
       " 'TXN': 15}"
      ]
     },
     "metadata": {},
     "execution_count": 61
    }
   ],
   "source": [
    "score_each"
   ]
  },
  {
   "cell_type": "code",
   "execution_count": 62,
   "metadata": {},
   "outputs": [],
   "source": [
    "#lowest score is best performer in each table \n",
    "score_sort = sorted(score_each.items(), key =  lambda kv:(kv[1], kv[0]))"
   ]
  },
  {
   "cell_type": "code",
   "execution_count": 63,
   "metadata": {},
   "outputs": [
    {
     "output_type": "execute_result",
     "data": {
      "text/plain": [
       "[('CMCSA', 10),\n",
       " ('MSFT', 10),\n",
       " ('AVGO', 11),\n",
       " ('AAPL', 12),\n",
       " ('PEP', 14),\n",
       " ('TXN', 15),\n",
       " ('ASML', 20),\n",
       " ('CSCO', 20)]"
      ]
     },
     "metadata": {},
     "execution_count": 63
    }
   ],
   "source": [
    "score_sort"
   ]
  },
  {
   "cell_type": "code",
   "execution_count": 64,
   "metadata": {},
   "outputs": [],
   "source": [
    "# 10 year US give bond = ^TNX\n",
    "ten_year_bond_symbol = \"^TNX\"\n",
    "# top 2 crypto \n",
    "bitcoin = \"BTC-USD\"\n",
    "etherum = \"ETH-USD\""
   ]
  },
  {
   "cell_type": "code",
   "execution_count": 65,
   "metadata": {},
   "outputs": [],
   "source": [
    "# Stable Dividend growth company – 20% T-Bill (Govt. Bonds) – 80% \n",
    "p1_instruments = []\n",
    "weight_instruments ={} \n",
    "five_stocks =score_sort[0:5] \n",
    "weight_instruments[ten_year_bond_symbol] = 0.8\n",
    "for st in five_stocks:\n",
    "    weight= (0.2 /5)\n",
    "    weight_instruments[st[0]] = weight\n",
    "\n",
    "p1_instruments.append(weight_instruments)"
   ]
  },
  {
   "cell_type": "code",
   "execution_count": 66,
   "metadata": {},
   "outputs": [],
   "source": [
    "p2_instruments = []\n",
    "weight_instruments ={} \n",
    "five_stocks =score_sort[0:5] \n",
    "weight_instruments[ten_year_bond_symbol] = 0.65\n",
    "\n",
    "\n",
    "for st in five_stocks:\n",
    "    weight= (0.35 /5)\n",
    "    weight_instruments[st[0]] = weight\n",
    "\n",
    "p2_instruments.append(weight_instruments)"
   ]
  },
  {
   "cell_type": "code",
   "execution_count": null,
   "metadata": {},
   "outputs": [],
   "source": []
  },
  {
   "cell_type": "code",
   "execution_count": 67,
   "metadata": {},
   "outputs": [],
   "source": [
    "p3_instruments = []\n",
    "weight_instruments ={} \n",
    "four_stocks =score_sort[0:4] \n",
    "weight_instruments[ten_year_bond_symbol] = 0.4\n",
    "# 1 share at 20% \n",
    "best_div_payout = df_div_payout_ordered.head(1).loc[0:1,\"Ticker\"].values[0]\n",
    "weight_instruments[best_div_payout] = 0.2\n",
    "\n",
    "for st in four_stocks:\n",
    "    weight= (0.4 /5)\n",
    "    weight_instruments[st[0]] = weight\n",
    "\n",
    "p3_instruments.append(weight_instruments)\n"
   ]
  },
  {
   "cell_type": "code",
   "execution_count": 68,
   "metadata": {},
   "outputs": [
    {
     "output_type": "execute_result",
     "data": {
      "text/plain": [
       "[{'^TNX': 0.4,\n",
       "  'PEP': 0.2,\n",
       "  'CMCSA': 0.08,\n",
       "  'MSFT': 0.08,\n",
       "  'AVGO': 0.08,\n",
       "  'AAPL': 0.08}]"
      ]
     },
     "metadata": {},
     "execution_count": 68
    }
   ],
   "source": [
    "p3_instruments"
   ]
  },
  {
   "cell_type": "code",
   "execution_count": 69,
   "metadata": {},
   "outputs": [
    {
     "output_type": "execute_result",
     "data": {
      "text/plain": [
       "Index(['TSLA', 'PDD', 'NVDA'], dtype='object')"
      ]
     },
     "metadata": {},
     "execution_count": 69
    }
   ],
   "source": [
    "df_Beta.sort_values(by=\"BETA\", ascending=False).head(3).index"
   ]
  },
  {
   "cell_type": "code",
   "execution_count": 70,
   "metadata": {},
   "outputs": [],
   "source": [
    "# P4 stable 10% as p1 1number, hish risk based on beta 65 % 3number  t bill 5 %, crypto 20 1number"
   ]
  },
  {
   "cell_type": "code",
   "execution_count": 71,
   "metadata": {},
   "outputs": [],
   "source": [
    "p4_instruments = []\n",
    "weight_instruments ={} \n",
    "one = score_sort[0:1][0][0] \n",
    "weight_instruments[one] = 0.1 \n",
    "weight_instruments[ten_year_bond_symbol] = 0.05\n",
    "# 1 share at 20% \n",
    "best_div_payout = df_div_payout_ordered.head(1).loc[0:1,\"Ticker\"].values[0]\n",
    "weight_instruments[best_div_payout] = 0.2\n",
    "weight_instruments[bitcoin] = 0.2\n",
    "for st in (df_Beta.sort_values(by=\"BETA\", ascending=False).head(3).index):\n",
    "    weight= (0.65 / 3)\n",
    "    weight_instruments[st] = weight\n",
    "\n",
    "p4_instruments.append(weight_instruments)"
   ]
  },
  {
   "cell_type": "code",
   "execution_count": 72,
   "metadata": {},
   "outputs": [
    {
     "output_type": "execute_result",
     "data": {
      "text/plain": [
       "[{'CMCSA': 0.1,\n",
       "  '^TNX': 0.05,\n",
       "  'PEP': 0.2,\n",
       "  'BTC-USD': 0.2,\n",
       "  'TSLA': 0.21666666666666667,\n",
       "  'PDD': 0.21666666666666667,\n",
       "  'NVDA': 0.21666666666666667}]"
      ]
     },
     "metadata": {},
     "execution_count": 72
    }
   ],
   "source": [
    "p4_instruments"
   ]
  },
  {
   "cell_type": "code",
   "execution_count": 73,
   "metadata": {},
   "outputs": [],
   "source": [
    "# p5 crpto 45%   2 number , beta 50% 3 number , Tbill 5 % 1\n",
    "p5_instruments = []\n",
    "weight_instruments ={} \n",
    "weight_instruments[ten_year_bond_symbol] = 0.05\n",
    "weight_instruments[bitcoin] = (0.45/2)\n",
    "weight_instruments[etherum] = (0.45/2)\n",
    "for st in (df_Beta.sort_values(by=\"BETA\", ascending=False).head(3).index):\n",
    "    weight= (0.5 / 3)\n",
    "    weight_instruments[st] = weight\n",
    "\n",
    "p5_instruments.append(weight_instruments)"
   ]
  },
  {
   "cell_type": "code",
   "execution_count": 74,
   "metadata": {},
   "outputs": [
    {
     "output_type": "execute_result",
     "data": {
      "text/plain": [
       "[{'^TNX': 0.05,\n",
       "  'BTC-USD': 0.225,\n",
       "  'ETH-USD': 0.225,\n",
       "  'TSLA': 0.16666666666666666,\n",
       "  'PDD': 0.16666666666666666,\n",
       "  'NVDA': 0.16666666666666666}]"
      ]
     },
     "metadata": {},
     "execution_count": 74
    }
   ],
   "source": [
    "p5_instruments"
   ]
  },
  {
   "cell_type": "code",
   "execution_count": null,
   "metadata": {},
   "outputs": [],
   "source": []
  }
 ]
}