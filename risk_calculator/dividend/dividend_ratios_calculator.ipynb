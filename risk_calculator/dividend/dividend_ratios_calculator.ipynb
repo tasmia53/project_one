{
 "metadata": {
  "language_info": {
   "codemirror_mode": {
    "name": "ipython",
    "version": 3
   },
   "file_extension": ".py",
   "mimetype": "text/x-python",
   "name": "python",
   "nbconvert_exporter": "python",
   "pygments_lexer": "ipython3",
   "version": "3.9.2-final"
  },
  "orig_nbformat": 2,
  "kernelspec": {
   "name": "python392jvsc74a57bd0da095f86ab32f3490c8b4dc37c23fc1d5409d02f5085c89ebb1e0696d14ca30b",
   "display_name": "Python 3.9.2 64-bit ('prjenv': conda)"
  }
 },
 "nbformat": 4,
 "nbformat_minor": 2,
 "cells": [
  {
   "cell_type": "code",
   "execution_count": 289,
   "metadata": {},
   "outputs": [],
   "source": [
    "import yahoo_fin.stock_info as yf\n",
    "import pandas as pd\n",
    "import warnings\n",
    "warnings.filterwarnings('ignore')"
   ]
  },
  {
   "cell_type": "code",
   "execution_count": 290,
   "metadata": {},
   "outputs": [],
   "source": [
    "nasdaq_ticker = pd.read_csv('./data/nasdaq_screener.csv')\n",
    "nasdaq_ticker.sort_values(['Market Cap'],ascending=False)\n",
    "fifty_largest= nasdaq_ticker.nlargest(50,'Market Cap')\n",
    "twenty_largest= nasdaq_ticker.nlargest(20,'Market Cap')\n",
    "ticker_list = twenty_largest['Symbol'].to_list()\n"
   ]
  },
  {
   "cell_type": "code",
   "execution_count": 291,
   "metadata": {},
   "outputs": [],
   "source": [
    "def get_company_financials(ticker_list):\n",
    "    all_financials = {}\n",
    "    if not ticker_list:\n",
    "         return \"Please provide atleast one ticker\"\n",
    "    else: \n",
    "        # avoid looping through dataframes due to loc index issues\n",
    "        for tick in ticker_list:\n",
    "            ticker_report ={}\n",
    "            dict_financials  = yf.get_financials(tick,yearly =True, quarterly = False)\n",
    "            ticker_report[\"income_statement\"]= dict_financials['yearly_income_statement'].fillna(0)\n",
    "            ticker_report[\"balance_sheet\"] = dict_financials['yearly_balance_sheet'].fillna(0)\n",
    "            ticker_report[\"yearly_cash_flow\"] = dict_financials['yearly_cash_flow'].fillna(0)\n",
    "            all_financials[tick] = ticker_report\n",
    "    return all_financials"
   ]
  },
  {
   "cell_type": "code",
   "execution_count": 292,
   "metadata": {},
   "outputs": [],
   "source": [
    "def get_company_performance(ticker_list):\n",
    "    all_performance = {}\n",
    "    if not ticker_list:\n",
    "         return \"Please provide atleast one ticker\"\n",
    "    else: \n",
    "        for tick in ticker_list:\n",
    "            performance = {}\n",
    "\n",
    "            try:\n",
    "                dividend = yf.get_dividends(tick)\n",
    "                performance[\"dividend\"] = dividend\n",
    "                earnings = yf.get_earnings_history(tick)\n",
    "                performance[\"earnings\"] = pd.DataFrame(earnings)\n",
    "                all_performance[tick] = performance\n",
    "                # catch exceptions raised on no data available\n",
    "            except Exception as e : \n",
    "                ticker_list.remove(tick)\n",
    "                #print(f\"No dividend for {tick}\") \n",
    "                \n",
    "    return all_performance  \n",
    "\n"
   ]
  },
  {
   "cell_type": "code",
   "execution_count": 293,
   "metadata": {},
   "outputs": [],
   "source": [
    "all_financials = get_company_financials(ticker_list)\n",
    "all_performance = get_company_performance(ticker_list)"
   ]
  },
  {
   "cell_type": "code",
   "execution_count": 294,
   "metadata": {},
   "outputs": [],
   "source": [
    "list_dfs_FCFE  = []\n",
    "list_dfs_ND2EB = []\n",
    "cf_labels = ['netBorrowings','capitalExpenditures','depreciation']\n",
    "is_labels = [\"netIncome\",'ebit']\n",
    "\n",
    "df_ratios = pd.DataFrame()\n",
    "for tick in all_financials.keys():\n",
    "    stock_ratios ={}\n",
    "    yearly_cash_flow = all_financials[tick][\"yearly_cash_flow\"]\n",
    "    income_stmnt = all_financials[tick][\"income_statement\"]\n",
    "    if (cf_labels[0] in yearly_cash_flow.index) and (cf_labels[1] in yearly_cash_flow.index):\n",
    "         capex = yearly_cash_flow.loc[cf_labels[1]]\n",
    "         net_borrow = yearly_cash_flow.loc[cf_labels[0]]\n",
    "         depreciation = yearly_cash_flow.loc[cf_labels[2]]\n",
    "    else: \n",
    "        #print(tick)\n",
    "        del all_financials[tick]    \n",
    "    if is_labels[0] in income_stmnt.index:\n",
    "        net_income = income_stmnt.loc[\"netIncome\"]\n",
    "        ebit = income_stmnt.loc[\"ebit\"]\n",
    "    else: \n",
    "        #print(tick)\n",
    "        del all_financials[tick]\n",
    "    FCFE = net_income - capex + net_borrow\n",
    "    ND_to_EB = net_borrow / (ebit + depreciation)\n",
    "    #print(f\"Ticker {tick} has FCFE of {FCFE}\")\n",
    "    df_FCFE = pd.DataFrame(FCFE).transpose()\n",
    "    df_ND2EB = pd.DataFrame(ND_to_EB).transpose()\n",
    "    \n",
    "    df_ND2EB.columns = df_ND2EB.columns.year\n",
    "    df_ND2EB['Ticker'] = pd.Series(tick, index=df_ND2EB.index)\n",
    "    list_dfs_ND2EB.append(df_ND2EB)\n",
    "    \n",
    "    df_FCFE.columns = df_FCFE.columns.year\n",
    "    df_FCFE['Ticker'] = pd.Series(tick, index=df_FCFE.index)\n",
    "    list_dfs_FCFE.append(df_FCFE)\n",
    "   "
   ]
  },
  {
   "cell_type": "code",
   "execution_count": 230,
   "metadata": {},
   "outputs": [],
   "source": [
    "df_all_ND2EB = pd.concat(list_dfs_ND2EB).set_index(\"Ticker\").drop(columns=(min(df_all_ND2EB.columns) + 4),axis=1)\n",
    "df_all_FCFE = pd.concat(list_dfs_FCFE).set_index(\"Ticker\").drop(columns=(min(df_all_FCFE.columns) + 4),axis=1)"
   ]
  },
  {
   "cell_type": "code",
   "execution_count": 295,
   "metadata": {},
   "outputs": [],
   "source": [
    "df_all_ND2EB.columns.name= \"year\"\n",
    "df_all_FCFE.columns.name= \"year\""
   ]
  },
  {
   "cell_type": "code",
   "execution_count": 296,
   "metadata": {},
   "outputs": [
    {
     "output_type": "execute_result",
     "data": {
      "text/plain": [
       "pandas.core.indexes.base.Index"
      ]
     },
     "metadata": {},
     "execution_count": 296
    }
   ],
   "source": [
    "calc_years= df_all_FCFE.columns\n",
    "type(calc_years)"
   ]
  },
  {
   "cell_type": "code",
   "execution_count": 297,
   "metadata": {},
   "outputs": [],
   "source": [
    "all_div_payout= []\n",
    "all_div_coverage=[]\n",
    "\n",
    "for tick in all_performance.keys():\n",
    "    \n",
    "    divi = all_performance[tick]['dividend']\n",
    "    ann_total_divi = divi.groupby(divi.index.year).sum()\n",
    "    ann_total_divi = ann_total.T\n",
    "    ann_total_divi = ann_total_divi[ann_total_divi.columns.intersection(df_all_FCFE.columns)]\n",
    "   \n",
    "    earnings = all_performance[tick]['earnings']\n",
    "    eps = earnings[[\"startdatetime\",\"epsactual\"]]\n",
    "    eps.loc[:, (\"startdatetime\")] = pd.to_datetime(eps.loc[:, (\"startdatetime\")], errors=\"coerce\",format=\"%Y-%m-%d\")\n",
    "    eps_annual = eps.groupby(eps.loc[:, (\"startdatetime\")].dt.year).sum()\n",
    "    eps_annual = eps_annual.T\n",
    "    eps_annual = eps_annual[eps_annual.columns.intersection(df_all_FCFE.columns)]\n",
    "    div_coverage = pd.DataFrame(eps_annual.loc['epsactual'] / ann_total_divi.loc[\"dividend\"]).T\n",
    "    div_coverage[\"Ticker\"] = tick\n",
    "    div_coverage =div_coverage.set_index(\"Ticker\")\n",
    "    all_div_coverage.append(div_coverage)\n",
    "   \n",
    "    div_payout =  pd.DataFrame(ann_total_divi.loc[\"dividend\"] / eps_annual.loc['epsactual']).T\n",
    "    div_payout[\"Ticker\"] = tick\n",
    "    div_payout =div_payout.set_index(\"Ticker\")\n",
    "    all_div_payout.append(div_payout)\n",
    "   "
   ]
  },
  {
   "cell_type": "code",
   "execution_count": 302,
   "metadata": {},
   "outputs": [],
   "source": [
    "df_div_payout = pd.concat(all_div_payout)\n",
    "df_div_payout.columns.name= \"year\"\n",
    "df_div_coverage= pd.concat(all_div_coverage)\n",
    "df_div_coverage.columns.name= \"year\""
   ]
  },
  {
   "cell_type": "code",
   "execution_count": 303,
   "metadata": {},
   "outputs": [
    {
     "output_type": "execute_result",
     "data": {
      "text/plain": [
       "year        2017      2018      2019      2020\n",
       "Ticker                                        \n",
       "AAPL    0.172826  0.177503  0.634228  0.639144\n",
       "MSFT    0.470414  0.411483  0.378758  0.337641\n",
       "ASML    0.307544  0.252941  0.309329  0.349498\n",
       "CMCSA   0.787129  0.713693  0.636364  0.735915\n",
       "CSCO    0.665272  0.627737  0.594340  0.669872\n",
       "AVGO    0.099313  0.082573  0.088691  0.094399\n",
       "PEP     0.310547  0.314442  0.339928  0.380000\n",
       "TXN     0.384988  0.317343  0.351301  0.395085"
      ],
      "text/html": "<div>\n<style scoped>\n    .dataframe tbody tr th:only-of-type {\n        vertical-align: middle;\n    }\n\n    .dataframe tbody tr th {\n        vertical-align: top;\n    }\n\n    .dataframe thead th {\n        text-align: right;\n    }\n</style>\n<table border=\"1\" class=\"dataframe\">\n  <thead>\n    <tr style=\"text-align: right;\">\n      <th>year</th>\n      <th>2017</th>\n      <th>2018</th>\n      <th>2019</th>\n      <th>2020</th>\n    </tr>\n    <tr>\n      <th>Ticker</th>\n      <th></th>\n      <th></th>\n      <th></th>\n      <th></th>\n    </tr>\n  </thead>\n  <tbody>\n    <tr>\n      <th>AAPL</th>\n      <td>0.172826</td>\n      <td>0.177503</td>\n      <td>0.634228</td>\n      <td>0.639144</td>\n    </tr>\n    <tr>\n      <th>MSFT</th>\n      <td>0.470414</td>\n      <td>0.411483</td>\n      <td>0.378758</td>\n      <td>0.337641</td>\n    </tr>\n    <tr>\n      <th>ASML</th>\n      <td>0.307544</td>\n      <td>0.252941</td>\n      <td>0.309329</td>\n      <td>0.349498</td>\n    </tr>\n    <tr>\n      <th>CMCSA</th>\n      <td>0.787129</td>\n      <td>0.713693</td>\n      <td>0.636364</td>\n      <td>0.735915</td>\n    </tr>\n    <tr>\n      <th>CSCO</th>\n      <td>0.665272</td>\n      <td>0.627737</td>\n      <td>0.594340</td>\n      <td>0.669872</td>\n    </tr>\n    <tr>\n      <th>AVGO</th>\n      <td>0.099313</td>\n      <td>0.082573</td>\n      <td>0.088691</td>\n      <td>0.094399</td>\n    </tr>\n    <tr>\n      <th>PEP</th>\n      <td>0.310547</td>\n      <td>0.314442</td>\n      <td>0.339928</td>\n      <td>0.380000</td>\n    </tr>\n    <tr>\n      <th>TXN</th>\n      <td>0.384988</td>\n      <td>0.317343</td>\n      <td>0.351301</td>\n      <td>0.395085</td>\n    </tr>\n  </tbody>\n</table>\n</div>"
     },
     "metadata": {},
     "execution_count": 303
    }
   ],
   "source": [
    "df_div_payout"
   ]
  },
  {
   "cell_type": "code",
   "execution_count": 304,
   "metadata": {},
   "outputs": [
    {
     "output_type": "execute_result",
     "data": {
      "text/plain": [
       "year         2017       2018       2019       2020\n",
       "Ticker                                            \n",
       "AAPL     5.786164   5.633721   1.576720   1.564593\n",
       "MSFT     2.125786   2.430233   2.640212   2.961722\n",
       "ASML     3.251572   3.953488   3.232804   2.861244\n",
       "CMCSA    1.270440   1.401163   1.571429   1.358852\n",
       "CSCO     1.503145   1.593023   1.682540   1.492823\n",
       "AVGO    10.069182  12.110465  11.275132  10.593301\n",
       "PEP      3.220126   3.180233   2.941799   2.631579\n",
       "TXN      2.597484   3.151163   2.846561   2.531100"
      ],
      "text/html": "<div>\n<style scoped>\n    .dataframe tbody tr th:only-of-type {\n        vertical-align: middle;\n    }\n\n    .dataframe tbody tr th {\n        vertical-align: top;\n    }\n\n    .dataframe thead th {\n        text-align: right;\n    }\n</style>\n<table border=\"1\" class=\"dataframe\">\n  <thead>\n    <tr style=\"text-align: right;\">\n      <th>year</th>\n      <th>2017</th>\n      <th>2018</th>\n      <th>2019</th>\n      <th>2020</th>\n    </tr>\n    <tr>\n      <th>Ticker</th>\n      <th></th>\n      <th></th>\n      <th></th>\n      <th></th>\n    </tr>\n  </thead>\n  <tbody>\n    <tr>\n      <th>AAPL</th>\n      <td>5.786164</td>\n      <td>5.633721</td>\n      <td>1.576720</td>\n      <td>1.564593</td>\n    </tr>\n    <tr>\n      <th>MSFT</th>\n      <td>2.125786</td>\n      <td>2.430233</td>\n      <td>2.640212</td>\n      <td>2.961722</td>\n    </tr>\n    <tr>\n      <th>ASML</th>\n      <td>3.251572</td>\n      <td>3.953488</td>\n      <td>3.232804</td>\n      <td>2.861244</td>\n    </tr>\n    <tr>\n      <th>CMCSA</th>\n      <td>1.270440</td>\n      <td>1.401163</td>\n      <td>1.571429</td>\n      <td>1.358852</td>\n    </tr>\n    <tr>\n      <th>CSCO</th>\n      <td>1.503145</td>\n      <td>1.593023</td>\n      <td>1.682540</td>\n      <td>1.492823</td>\n    </tr>\n    <tr>\n      <th>AVGO</th>\n      <td>10.069182</td>\n      <td>12.110465</td>\n      <td>11.275132</td>\n      <td>10.593301</td>\n    </tr>\n    <tr>\n      <th>PEP</th>\n      <td>3.220126</td>\n      <td>3.180233</td>\n      <td>2.941799</td>\n      <td>2.631579</td>\n    </tr>\n    <tr>\n      <th>TXN</th>\n      <td>2.597484</td>\n      <td>3.151163</td>\n      <td>2.846561</td>\n      <td>2.531100</td>\n    </tr>\n  </tbody>\n</table>\n</div>"
     },
     "metadata": {},
     "execution_count": 304
    }
   ],
   "source": [
    "df_div_coverage"
   ]
  },
  {
   "cell_type": "code",
   "execution_count": 305,
   "metadata": {},
   "outputs": [
    {
     "output_type": "execute_result",
     "data": {
      "text/plain": [
       "year            2020          2019          2018          2017\n",
       "Ticker                                                        \n",
       "AAPL    6.721900e+10  5.793200e+10  7.327600e+10  8.981600e+10\n",
       "MSFT    5.420400e+10  4.916500e+10  1.800200e+10  6.507700e+10\n",
       "AMZN    6.036700e+10  1.838300e+10  1.581400e+10  2.491600e+10\n",
       "GOOG    7.221100e+10  5.762300e+10  5.581400e+10  2.576000e+10\n",
       "GOOGL   7.221100e+10  5.762300e+10  5.581400e+10  2.576000e+10\n",
       "FB      4.368100e+10  3.281200e+10  3.652700e+10  2.316700e+10\n",
       "TSLA    1.465000e+09  1.368000e+09  1.432000e+09  5.504000e+09\n",
       "NVDA    8.253000e+09  4.725000e+09  2.828000e+09           NaN\n",
       "PYPL    9.034000e+09  6.118000e+09  3.840000e+09  3.282000e+09\n",
       "INTC    4.107400e+10  3.802600e+10  3.363100e+10  2.101500e+10\n",
       "ASML    5.998700e+09  3.355100e+09  3.162800e+09  2.162600e+09\n",
       "CMCSA   2.107800e+10  1.913800e+10  5.832700e+10  3.555300e+10\n",
       "NFLX    4.268782e+09  6.589257e+09  5.347040e+09  3.752741e+09\n",
       "ADBE    5.673000e+09  3.340000e+09  5.106000e+09  1.870116e+09\n",
       "CSCO    1.794000e+09  1.144600e+10 -7.056000e+09  1.589900e+10\n",
       "AVGO    1.112600e+10  1.639000e+10  1.192100e+10  6.519000e+09\n",
       "PEP     2.265300e+10  1.119100e+10  8.835000e+09  9.876000e+09\n",
       "TXN     7.242000e+09  6.605000e+09  7.711000e+09  4.851000e+09\n",
       "PDD    -7.179742e+09  1.029956e+09 -2.219671e+09  7.453929e+09\n",
       "TMUS    2.733100e+10  7.686000e+09  6.574000e+09  9.237000e+09"
      ],
      "text/html": "<div>\n<style scoped>\n    .dataframe tbody tr th:only-of-type {\n        vertical-align: middle;\n    }\n\n    .dataframe tbody tr th {\n        vertical-align: top;\n    }\n\n    .dataframe thead th {\n        text-align: right;\n    }\n</style>\n<table border=\"1\" class=\"dataframe\">\n  <thead>\n    <tr style=\"text-align: right;\">\n      <th>year</th>\n      <th>2020</th>\n      <th>2019</th>\n      <th>2018</th>\n      <th>2017</th>\n    </tr>\n    <tr>\n      <th>Ticker</th>\n      <th></th>\n      <th></th>\n      <th></th>\n      <th></th>\n    </tr>\n  </thead>\n  <tbody>\n    <tr>\n      <th>AAPL</th>\n      <td>6.721900e+10</td>\n      <td>5.793200e+10</td>\n      <td>7.327600e+10</td>\n      <td>8.981600e+10</td>\n    </tr>\n    <tr>\n      <th>MSFT</th>\n      <td>5.420400e+10</td>\n      <td>4.916500e+10</td>\n      <td>1.800200e+10</td>\n      <td>6.507700e+10</td>\n    </tr>\n    <tr>\n      <th>AMZN</th>\n      <td>6.036700e+10</td>\n      <td>1.838300e+10</td>\n      <td>1.581400e+10</td>\n      <td>2.491600e+10</td>\n    </tr>\n    <tr>\n      <th>GOOG</th>\n      <td>7.221100e+10</td>\n      <td>5.762300e+10</td>\n      <td>5.581400e+10</td>\n      <td>2.576000e+10</td>\n    </tr>\n    <tr>\n      <th>GOOGL</th>\n      <td>7.221100e+10</td>\n      <td>5.762300e+10</td>\n      <td>5.581400e+10</td>\n      <td>2.576000e+10</td>\n    </tr>\n    <tr>\n      <th>FB</th>\n      <td>4.368100e+10</td>\n      <td>3.281200e+10</td>\n      <td>3.652700e+10</td>\n      <td>2.316700e+10</td>\n    </tr>\n    <tr>\n      <th>TSLA</th>\n      <td>1.465000e+09</td>\n      <td>1.368000e+09</td>\n      <td>1.432000e+09</td>\n      <td>5.504000e+09</td>\n    </tr>\n    <tr>\n      <th>NVDA</th>\n      <td>8.253000e+09</td>\n      <td>4.725000e+09</td>\n      <td>2.828000e+09</td>\n      <td>NaN</td>\n    </tr>\n    <tr>\n      <th>PYPL</th>\n      <td>9.034000e+09</td>\n      <td>6.118000e+09</td>\n      <td>3.840000e+09</td>\n      <td>3.282000e+09</td>\n    </tr>\n    <tr>\n      <th>INTC</th>\n      <td>4.107400e+10</td>\n      <td>3.802600e+10</td>\n      <td>3.363100e+10</td>\n      <td>2.101500e+10</td>\n    </tr>\n    <tr>\n      <th>ASML</th>\n      <td>5.998700e+09</td>\n      <td>3.355100e+09</td>\n      <td>3.162800e+09</td>\n      <td>2.162600e+09</td>\n    </tr>\n    <tr>\n      <th>CMCSA</th>\n      <td>2.107800e+10</td>\n      <td>1.913800e+10</td>\n      <td>5.832700e+10</td>\n      <td>3.555300e+10</td>\n    </tr>\n    <tr>\n      <th>NFLX</th>\n      <td>4.268782e+09</td>\n      <td>6.589257e+09</td>\n      <td>5.347040e+09</td>\n      <td>3.752741e+09</td>\n    </tr>\n    <tr>\n      <th>ADBE</th>\n      <td>5.673000e+09</td>\n      <td>3.340000e+09</td>\n      <td>5.106000e+09</td>\n      <td>1.870116e+09</td>\n    </tr>\n    <tr>\n      <th>CSCO</th>\n      <td>1.794000e+09</td>\n      <td>1.144600e+10</td>\n      <td>-7.056000e+09</td>\n      <td>1.589900e+10</td>\n    </tr>\n    <tr>\n      <th>AVGO</th>\n      <td>1.112600e+10</td>\n      <td>1.639000e+10</td>\n      <td>1.192100e+10</td>\n      <td>6.519000e+09</td>\n    </tr>\n    <tr>\n      <th>PEP</th>\n      <td>2.265300e+10</td>\n      <td>1.119100e+10</td>\n      <td>8.835000e+09</td>\n      <td>9.876000e+09</td>\n    </tr>\n    <tr>\n      <th>TXN</th>\n      <td>7.242000e+09</td>\n      <td>6.605000e+09</td>\n      <td>7.711000e+09</td>\n      <td>4.851000e+09</td>\n    </tr>\n    <tr>\n      <th>PDD</th>\n      <td>-7.179742e+09</td>\n      <td>1.029956e+09</td>\n      <td>-2.219671e+09</td>\n      <td>7.453929e+09</td>\n    </tr>\n    <tr>\n      <th>TMUS</th>\n      <td>2.733100e+10</td>\n      <td>7.686000e+09</td>\n      <td>6.574000e+09</td>\n      <td>9.237000e+09</td>\n    </tr>\n  </tbody>\n</table>\n</div>"
     },
     "metadata": {},
     "execution_count": 305
    }
   ],
   "source": [
    "df_all_FCFE"
   ]
  },
  {
   "cell_type": "code",
   "execution_count": 306,
   "metadata": {},
   "outputs": [
    {
     "output_type": "execute_result",
     "data": {
      "text/plain": [
       "year        2020      2019      2018        2017\n",
       "Ticker                                          \n",
       "AAPL    0.032310 -0.102240  0.005281    0.405785\n",
       "MSFT   -0.084555 -0.073315 -0.226901    0.847244\n",
       "AMZN   -0.022928 -0.278120 -0.276853    0.637064\n",
       "GOOG    0.175965 -0.005568 -0.001466   -0.002401\n",
       "GOOGL   0.175965 -0.005568 -0.001466   -0.002401\n",
       "FB     -0.014671 -0.022317  0.017107    0.021526\n",
       "TSLA   -0.582261  0.367403  0.054434  846.250000\n",
       "NVDA    1.539510 -0.003935 -0.238193         NaN\n",
       "PYPL    0.923399  0.866315  0.351262    0.302583\n",
       "INTC    0.158438  0.023005 -0.080516   -0.013703\n",
       "ASML    0.333258 -0.001204 -0.000827   -0.085162\n",
       "CMCSA  -0.004347 -0.146370  1.205437    0.115390\n",
       "NFLX    0.214734  1.650510  2.346536    3.317091\n",
       "ADBE   -0.001248 -0.001557  0.705587   -0.000786\n",
       "CSCO   -0.644040 -0.068022 -0.540687    0.363450\n",
       "AVGO    0.690542  1.305257 -0.101693    0.506060\n",
       "PEP     0.855336 -0.027441 -0.553814    0.160507\n",
       "TXN     0.145566  0.110961  0.131718    0.068795\n",
       "PDD    -0.000000 -1.008828 -1.832625  -13.660125\n",
       "TMUS    0.561410 -0.167696 -0.154699   -0.050390"
      ],
      "text/html": "<div>\n<style scoped>\n    .dataframe tbody tr th:only-of-type {\n        vertical-align: middle;\n    }\n\n    .dataframe tbody tr th {\n        vertical-align: top;\n    }\n\n    .dataframe thead th {\n        text-align: right;\n    }\n</style>\n<table border=\"1\" class=\"dataframe\">\n  <thead>\n    <tr style=\"text-align: right;\">\n      <th>year</th>\n      <th>2020</th>\n      <th>2019</th>\n      <th>2018</th>\n      <th>2017</th>\n    </tr>\n    <tr>\n      <th>Ticker</th>\n      <th></th>\n      <th></th>\n      <th></th>\n      <th></th>\n    </tr>\n  </thead>\n  <tbody>\n    <tr>\n      <th>AAPL</th>\n      <td>0.032310</td>\n      <td>-0.102240</td>\n      <td>0.005281</td>\n      <td>0.405785</td>\n    </tr>\n    <tr>\n      <th>MSFT</th>\n      <td>-0.084555</td>\n      <td>-0.073315</td>\n      <td>-0.226901</td>\n      <td>0.847244</td>\n    </tr>\n    <tr>\n      <th>AMZN</th>\n      <td>-0.022928</td>\n      <td>-0.278120</td>\n      <td>-0.276853</td>\n      <td>0.637064</td>\n    </tr>\n    <tr>\n      <th>GOOG</th>\n      <td>0.175965</td>\n      <td>-0.005568</td>\n      <td>-0.001466</td>\n      <td>-0.002401</td>\n    </tr>\n    <tr>\n      <th>GOOGL</th>\n      <td>0.175965</td>\n      <td>-0.005568</td>\n      <td>-0.001466</td>\n      <td>-0.002401</td>\n    </tr>\n    <tr>\n      <th>FB</th>\n      <td>-0.014671</td>\n      <td>-0.022317</td>\n      <td>0.017107</td>\n      <td>0.021526</td>\n    </tr>\n    <tr>\n      <th>TSLA</th>\n      <td>-0.582261</td>\n      <td>0.367403</td>\n      <td>0.054434</td>\n      <td>846.250000</td>\n    </tr>\n    <tr>\n      <th>NVDA</th>\n      <td>1.539510</td>\n      <td>-0.003935</td>\n      <td>-0.238193</td>\n      <td>NaN</td>\n    </tr>\n    <tr>\n      <th>PYPL</th>\n      <td>0.923399</td>\n      <td>0.866315</td>\n      <td>0.351262</td>\n      <td>0.302583</td>\n    </tr>\n    <tr>\n      <th>INTC</th>\n      <td>0.158438</td>\n      <td>0.023005</td>\n      <td>-0.080516</td>\n      <td>-0.013703</td>\n    </tr>\n    <tr>\n      <th>ASML</th>\n      <td>0.333258</td>\n      <td>-0.001204</td>\n      <td>-0.000827</td>\n      <td>-0.085162</td>\n    </tr>\n    <tr>\n      <th>CMCSA</th>\n      <td>-0.004347</td>\n      <td>-0.146370</td>\n      <td>1.205437</td>\n      <td>0.115390</td>\n    </tr>\n    <tr>\n      <th>NFLX</th>\n      <td>0.214734</td>\n      <td>1.650510</td>\n      <td>2.346536</td>\n      <td>3.317091</td>\n    </tr>\n    <tr>\n      <th>ADBE</th>\n      <td>-0.001248</td>\n      <td>-0.001557</td>\n      <td>0.705587</td>\n      <td>-0.000786</td>\n    </tr>\n    <tr>\n      <th>CSCO</th>\n      <td>-0.644040</td>\n      <td>-0.068022</td>\n      <td>-0.540687</td>\n      <td>0.363450</td>\n    </tr>\n    <tr>\n      <th>AVGO</th>\n      <td>0.690542</td>\n      <td>1.305257</td>\n      <td>-0.101693</td>\n      <td>0.506060</td>\n    </tr>\n    <tr>\n      <th>PEP</th>\n      <td>0.855336</td>\n      <td>-0.027441</td>\n      <td>-0.553814</td>\n      <td>0.160507</td>\n    </tr>\n    <tr>\n      <th>TXN</th>\n      <td>0.145566</td>\n      <td>0.110961</td>\n      <td>0.131718</td>\n      <td>0.068795</td>\n    </tr>\n    <tr>\n      <th>PDD</th>\n      <td>-0.000000</td>\n      <td>-1.008828</td>\n      <td>-1.832625</td>\n      <td>-13.660125</td>\n    </tr>\n    <tr>\n      <th>TMUS</th>\n      <td>0.561410</td>\n      <td>-0.167696</td>\n      <td>-0.154699</td>\n      <td>-0.050390</td>\n    </tr>\n  </tbody>\n</table>\n</div>"
     },
     "metadata": {},
     "execution_count": 306
    }
   ],
   "source": [
    "df_all_ND2EB"
   ]
  },
  {
   "cell_type": "code",
   "execution_count": null,
   "metadata": {},
   "outputs": [],
   "source": []
  }
 ]
}