{
 "cells": [
  {
   "cell_type": "code",
   "execution_count": 1,
   "metadata": {},
   "outputs": [],
   "source": [
    "import ipywidgets as widgets\n",
    "import sys\n",
    "from IPython.display import display\n",
    "from IPython.display import clear_output\n",
    "from IPython.display import HTML, display\n",
    "import tabulate\n"
   ]
  },
  {
   "cell_type": "code",
   "execution_count": 2,
   "metadata": {},
   "outputs": [],
   "source": [
    "def create_multipleChoice_widget(description, options, correct_answer):\n",
    "    if correct_answer not in options:\n",
    "        options.append(correct_answer)\n",
    "    \n",
    "    correct_answer_index = options.index(correct_answer)\n",
    "    \n",
    "    radio_options = [(words, i) for i, words in enumerate(options)]\n",
    "    alternativ = widgets.RadioButtons(\n",
    "        options = radio_options,\n",
    "        description = '',\n",
    "        disabled = False\n",
    "    )\n",
    "    \n",
    "    description_out = widgets.Output()\n",
    "    with description_out:\n",
    "        print(description)\n",
    "        \n",
    "    feedback_out = widgets.Output()\n",
    "\n",
    "    def check_selection(b):\n",
    "        a = int(alternativ.value)\n",
    "        if a==correct_answer_index:\n",
    "            s = '\\x1b[6;30;42m' + \"Awesome\" + '\\x1b[0m' +\"\\n\" #green color\n",
    "        else:\n",
    "            s = '\\x1b[5;30;41m' + \"Continue \" + '\\x1b[0m' +\"\\n\" #red color\n",
    "        with feedback_out:\n",
    "            clear_output()\n",
    "            print(s)\n",
    "        return\n",
    "    \n",
    "    check = widgets.Button(description=\"submit\")\n",
    "    check.on_click(check_selection)\n",
    "    \n",
    "    \n",
    "    return widgets.VBox([description_out, alternativ, check, feedback_out])"
   ]
  },
  {
   "cell_type": "code",
   "execution_count": 3,
   "metadata": {},
   "outputs": [],
   "source": [
    "Q1 = create_multipleChoice_widget('What is your current age?',[('More than 60'), \n",
    "      ('Between 41 and 60'), \n",
    "      ('Between 21 and 40'), \n",
    "      ('20 or younger')],'Between 41 and 60')"
   ]
  },
  {
   "cell_type": "code",
   "execution_count": 4,
   "metadata": {},
   "outputs": [
    {
     "data": {
      "application/vnd.jupyter.widget-view+json": {
       "model_id": "ff084481a20344c58d3244506f8ef112",
       "version_major": 2,
       "version_minor": 0
      },
      "text/plain": [
       "VBox(children=(Output(), RadioButtons(options=(('More than 60', 0), ('Between 41 and 60', 1), ('Between 21 and…"
      ]
     },
     "metadata": {},
     "output_type": "display_data"
    }
   ],
   "source": [
    "display(Q1)"
   ]
  },
  {
   "cell_type": "code",
   "execution_count": 5,
   "metadata": {},
   "outputs": [],
   "source": [
    "Q2 = create_multipleChoice_widget('Please estimate when you will need to withdraw 20% of your current portfolio value, such as a need for a house down payment or some other major financial need?',[('Within the next year'),\n",
    "      ('2 to 5 years from now'), \n",
    "      ('5 to 10 years from now'), \n",
    "      ('10 to 20 years from now'), \n",
    "      ('More than 20'), ('No plans to withdraw')],'No plans to withdraw')"
   ]
  },
  {
   "cell_type": "code",
   "execution_count": 6,
   "metadata": {},
   "outputs": [
    {
     "data": {
      "application/vnd.jupyter.widget-view+json": {
       "model_id": "d244ba35b1a2432a957e574149f55604",
       "version_major": 2,
       "version_minor": 0
      },
      "text/plain": [
       "VBox(children=(Output(), RadioButtons(options=(('Within the next year', 0), ('2 to 5 years from now', 1), ('5 …"
      ]
     },
     "metadata": {},
     "output_type": "display_data"
    }
   ],
   "source": [
    "display(Q2)"
   ]
  },
  {
   "cell_type": "code",
   "execution_count": 7,
   "metadata": {},
   "outputs": [],
   "source": [
    "Q3 = create_multipleChoice_widget('If you were to lose your job today, how long will you be able to maintain your current spending life style before you run out of money in your Savings and Checking account?',[('I am retired'),\n",
    "      ('1 week'), \n",
    "      ('1 month'), \n",
    "      ('3 months'), \n",
    "      ('6 months or more')],'I am retired')"
   ]
  },
  {
   "cell_type": "code",
   "execution_count": 8,
   "metadata": {},
   "outputs": [
    {
     "data": {
      "application/vnd.jupyter.widget-view+json": {
       "model_id": "c3be5e847ed04490a7c1aa0c8e64e8e0",
       "version_major": 2,
       "version_minor": 0
      },
      "text/plain": [
       "VBox(children=(Output(), RadioButtons(options=(('I am retired', 0), ('1 week', 1), ('1 month', 2), ('3 months'…"
      ]
     },
     "metadata": {},
     "output_type": "display_data"
    }
   ],
   "source": [
    "display(Q3)"
   ]
  },
  {
   "cell_type": "code",
   "execution_count": 9,
   "metadata": {},
   "outputs": [],
   "source": [
    "Q4 = create_multipleChoice_widget('What is your total annual income including Work, Pension, Social Security, etc.?)',[('Less than $50K'), \n",
    "      ('Between $50k to $100k'), \n",
    "      ('Between $100k and $150k'), \n",
    "      ('Between $150k and $250k'), ('More than $250k')],'Between $150k and $250k')"
   ]
  },
  {
   "cell_type": "code",
   "execution_count": 10,
   "metadata": {},
   "outputs": [
    {
     "data": {
      "application/vnd.jupyter.widget-view+json": {
       "model_id": "e11134ecbd0b4db0bda8608689f74044",
       "version_major": 2,
       "version_minor": 0
      },
      "text/plain": [
       "VBox(children=(Output(), RadioButtons(options=(('Less than $50K', 0), ('Between $50k to $100k', 1), ('Between …"
      ]
     },
     "metadata": {},
     "output_type": "display_data"
    }
   ],
   "source": [
    "display(Q4)"
   ]
  },
  {
   "cell_type": "code",
   "execution_count": 11,
   "metadata": {},
   "outputs": [],
   "source": [
    "Q5 = create_multipleChoice_widget('Over the next several years, you expect your annual income to?',[('Stay about the same'),\n",
    "      ('Grow moderately'), \n",
    "      ('Grow substantially'), \n",
    "      ('Decrease moderately'), \n",
    "      ('Decrease substantially')],'Grow substantially')"
   ]
  },
  {
   "cell_type": "code",
   "execution_count": 12,
   "metadata": {},
   "outputs": [
    {
     "data": {
      "application/vnd.jupyter.widget-view+json": {
       "model_id": "ff5dadff51fd46c49c78c7ab01814333",
       "version_major": 2,
       "version_minor": 0
      },
      "text/plain": [
       "VBox(children=(Output(), RadioButtons(options=(('Stay about the same', 0), ('Grow moderately', 1), ('Grow subs…"
      ]
     },
     "metadata": {},
     "output_type": "display_data"
    }
   ],
   "source": [
    "display(Q5)"
   ]
  },
  {
   "cell_type": "code",
   "execution_count": 13,
   "metadata": {},
   "outputs": [],
   "source": [
    "Q6 = create_multipleChoice_widget('Due to a general market correction, one of your investments loses 14% of its value a short time after you buy it. What do you do?',[('Sell the investment'),\n",
    "      ('Hold on to it and wait for it to climb back up'), \n",
    "      ('Buy more of the same investment')],'Sell the investment')"
   ]
  },
  {
   "cell_type": "code",
   "execution_count": 14,
   "metadata": {},
   "outputs": [
    {
     "data": {
      "application/vnd.jupyter.widget-view+json": {
       "model_id": "f6b65099b3cc4d8fa2f46041e5305af2",
       "version_major": 2,
       "version_minor": 0
      },
      "text/plain": [
       "VBox(children=(Output(), RadioButtons(options=(('Sell the investment', 0), ('Hold on to it and wait for it to …"
      ]
     },
     "metadata": {},
     "output_type": "display_data"
    }
   ],
   "source": [
    "display(Q6)"
   ]
  },
  {
   "cell_type": "code",
   "execution_count": 15,
   "metadata": {},
   "outputs": [],
   "source": [
    "Q7 = create_multipleChoice_widget('Assuming you are investing in a stock, which one do you choose?',[('Companies with low initial offering price'), \n",
    "      ('Established & growing companies'),                                                                                               \n",
    "      ('Blue chip stocks that pay dividends'),                                                                                               \n",
    "      ('Not intesrested in stock investment')],'Established & growing companies')"
   ]
  },
  {
   "cell_type": "code",
   "execution_count": 16,
   "metadata": {},
   "outputs": [
    {
     "data": {
      "application/vnd.jupyter.widget-view+json": {
       "model_id": "36eadc5d5bce4e36a1e2aad930d036e1",
       "version_major": 2,
       "version_minor": 0
      },
      "text/plain": [
       "VBox(children=(Output(), RadioButtons(options=(('Companies with low initial offering price', 0), ('Established…"
      ]
     },
     "metadata": {},
     "output_type": "display_data"
    }
   ],
   "source": [
    "display(Q7)"
   ]
  },
  {
   "cell_type": "code",
   "execution_count": 17,
   "metadata": {},
   "outputs": [],
   "source": [
    "Q8 = create_multipleChoice_widget('Assuming you are investing in only one bond, which bond do you choose?',[('High-yield bond that pays a higher interest rate'), \n",
    "      ('A tax-free bond to minimize taxes'),                                                                                               \n",
    "      ('Bond with average interest rate')],'Bond with average interest rate')"
   ]
  },
  {
   "cell_type": "code",
   "execution_count": 18,
   "metadata": {},
   "outputs": [
    {
     "data": {
      "application/vnd.jupyter.widget-view+json": {
       "model_id": "b333bd3c64584cc28bb464cb0c7d1e44",
       "version_major": 2,
       "version_minor": 0
      },
      "text/plain": [
       "VBox(children=(Output(), RadioButtons(options=(('High-yield bond that pays a higher interest rate', 0), ('A ta…"
      ]
     },
     "metadata": {},
     "output_type": "display_data"
    }
   ],
   "source": [
    "display(Q8)"
   ]
  },
  {
   "cell_type": "code",
   "execution_count": 19,
   "metadata": {},
   "outputs": [],
   "source": [
    "Q9 = create_multipleChoice_widget('If you unexpectedly received $20,000 to invest today, what would you do?',[('Deposite it in account'), \n",
    "      ('Invest only in bonds'), \n",
    "      ('Invest in mix of bond & stock'), \n",
    "      ('Invest only in stocks'),('Buy lottery tickets')],'Invest in mix of bond & stock')"
   ]
  },
  {
   "cell_type": "code",
   "execution_count": 20,
   "metadata": {},
   "outputs": [
    {
     "data": {
      "application/vnd.jupyter.widget-view+json": {
       "model_id": "91f26b841c0049d69750a5d744391904",
       "version_major": 2,
       "version_minor": 0
      },
      "text/plain": [
       "VBox(children=(Output(), RadioButtons(options=(('Deposite it in account', 0), ('Invest only in bonds', 1), ('I…"
      ]
     },
     "metadata": {},
     "output_type": "display_data"
    }
   ],
   "source": [
    "display(Q9)"
   ]
  },
  {
   "cell_type": "code",
   "execution_count": 21,
   "metadata": {},
   "outputs": [],
   "source": [
    "Q10 = create_multipleChoice_widget('When you think of the word “risk” in a financial context, which of the following words come to mind?',[('Absolute loss'), \n",
    "      ('Danger'), \n",
    "      ('Uncertainty'), \n",
    "      ('Opportunity'),('Thrill')],'Opportunity')"
   ]
  },
  {
   "cell_type": "code",
   "execution_count": 22,
   "metadata": {},
   "outputs": [
    {
     "data": {
      "application/vnd.jupyter.widget-view+json": {
       "model_id": "24f75c31be1a465aa8c5c9d43a85b637",
       "version_major": 2,
       "version_minor": 0
      },
      "text/plain": [
       "VBox(children=(Output(), RadioButtons(options=(('Absolute loss', 0), ('Danger', 1), ('Uncertainty', 2), ('Oppo…"
      ]
     },
     "metadata": {},
     "output_type": "display_data"
    }
   ],
   "source": [
    "display(Q10)"
   ]
  },
  {
   "cell_type": "code",
   "execution_count": 23,
   "metadata": {},
   "outputs": [],
   "source": [
    "Q11 = create_multipleChoice_widget('Which of these statements would best describe your attitudes about the next three years performance of this investment?',[('Need to see atleast little return'), \n",
    "      ('Would have hard time on losses'), \n",
    "      ('I can tolrate a small loss'), \n",
    "      ('I do not mind a loss'),('I can tolerate loss')],'I can tolrate a small loss')"
   ]
  },
  {
   "cell_type": "code",
   "execution_count": 24,
   "metadata": {},
   "outputs": [
    {
     "data": {
      "application/vnd.jupyter.widget-view+json": {
       "model_id": "564017dabdaa423d86c87e02204f7ad6",
       "version_major": 2,
       "version_minor": 0
      },
      "text/plain": [
       "VBox(children=(Output(), RadioButtons(options=(('Need to see atleast little return', 0), ('Would have hard tim…"
      ]
     },
     "metadata": {},
     "output_type": "display_data"
    }
   ],
   "source": [
    "display(Q11)"
   ]
  },
  {
   "cell_type": "code",
   "execution_count": 25,
   "metadata": {},
   "outputs": [
    {
     "data": {
      "text/html": [
       "<table>\n",
       "<tbody>\n",
       "<tr><td>Plan</td><td>Best_case%</td><td>Worst_case%</td><td>Avg_annual_return%</td></tr>\n",
       "<tr><td>A   </td><td>16.1      </td><td>-5.4       </td><td>7.0               </td></tr>\n",
       "<tr><td>B   </td><td>24.8      </td><td>-11.9      </td><td>8.8               </td></tr>\n",
       "<tr><td>C   </td><td>33.4      </td><td>-18.0      </td><td>10.2              </td></tr>\n",
       "<tr><td>D   </td><td>42.6      </td><td>-23.8      </td><td>11.5              </td></tr>\n",
       "<tr><td>E   </td><td>50.0      </td><td>-28.2      </td><td>12.3              </td></tr>\n",
       "</tbody>\n",
       "</table>"
      ],
      "text/plain": [
       "<IPython.core.display.HTML object>"
      ]
     },
     "metadata": {},
     "output_type": "display_data"
    }
   ],
   "source": [
    "Q12 = create_multipleChoice_widget('How emotionally comfortable are you with volatility?Which the following portfolios are you more comfortable with given the best-case and worst-case annual return?',[('Plan A'), \n",
    "      ('Plan B'), \n",
    "      ('Plan C'), \n",
    "      ('Plan D'),('Plan E')],'Plan B')\n",
    "\n",
    "table = [[\"Plan\",'Best_case%','Worst_case%','Avg_annual_return%'],\n",
    "         [\"A\",16.1,-5.4,7.0],\n",
    "         [\"B\",24.8,-11.9,8.8],\n",
    "         [\"C\",33.4,-18.0,10.2],\n",
    "         [\"D\",42.6,-23.8,11.5],\n",
    "         [\"E\",50.0,-28.2,12.3]]\n",
    "display(HTML(tabulate.tabulate(table, tablefmt='html')))"
   ]
  },
  {
   "cell_type": "code",
   "execution_count": 26,
   "metadata": {},
   "outputs": [
    {
     "data": {
      "application/vnd.jupyter.widget-view+json": {
       "model_id": "f7098e01211e41758aa59947359b14e0",
       "version_major": 2,
       "version_minor": 0
      },
      "text/plain": [
       "VBox(children=(Output(), RadioButtons(options=(('Plan A', 0), ('Plan B', 1), ('Plan C', 2), ('Plan D', 3), ('P…"
      ]
     },
     "metadata": {},
     "output_type": "display_data"
    }
   ],
   "source": [
    "display(Q12)"
   ]
  },
  {
   "cell_type": "code",
   "execution_count": null,
   "metadata": {},
   "outputs": [],
   "source": []
  }
 ],
 "metadata": {
  "kernelspec": {
   "display_name": "Python [conda env:pyviz] *",
   "language": "python",
   "name": "conda-env-pyviz-py"
  },
  "language_info": {
   "codemirror_mode": {
    "name": "ipython",
    "version": 3
   },
   "file_extension": ".py",
   "mimetype": "text/x-python",
   "name": "python",
   "nbconvert_exporter": "python",
   "pygments_lexer": "ipython3",
   "version": "3.8.5"
  }
 },
 "nbformat": 4,
 "nbformat_minor": 4
}
