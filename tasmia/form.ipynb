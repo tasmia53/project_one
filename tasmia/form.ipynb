{
 "cells": [
  {
   "cell_type": "code",
   "execution_count": 114,
   "metadata": {},
   "outputs": [],
   "source": [
    "import ipywidgets as widgets\n",
    "import sys\n",
    "from IPython.display import display\n",
    "from IPython.display import clear_output\n",
    "from IPython.display import HTML, display\n",
    "import tabulate\n"
   ]
  },
  {
   "cell_type": "code",
   "execution_count": 115,
   "metadata": {},
   "outputs": [],
   "source": [
    "def create_multipleChoice_widget(description, options, correct_answer):\n",
    "    if correct_answer not in options:\n",
    "        options.append(correct_answer)\n",
    "    \n",
    "    correct_answer_index = options.index(correct_answer)\n",
    "    \n",
    "    radio_options = [(words, i) for i, words in enumerate(options)]\n",
    "    alternativ = widgets.RadioButtons(\n",
    "        options = radio_options,\n",
    "        description = '',\n",
    "        disabled = False\n",
    "    )\n",
    "    \n",
    "    description_out = widgets.Output()\n",
    "    with description_out:\n",
    "        print(description)\n",
    "        \n",
    "    feedback_out = widgets.Output()\n",
    "\n",
    "    def check_selection(b):\n",
    "        a = int(alternativ.value)\n",
    "        if a==correct_answer_index:\n",
    "            s = '\\x1b[6;30;42m' + \"Awesome\" + '\\x1b[0m' +\"\\n\" #green color\n",
    "        else:\n",
    "            s = '\\x1b[5;30;41m' + \"Continue \" + '\\x1b[0m' +\"\\n\" #red color\n",
    "        with feedback_out:\n",
    "            clear_output()\n",
    "            print(s)\n",
    "        return\n",
    "    \n",
    "    check = widgets.Button(description=\"submit\")\n",
    "    check.on_click(check_selection)\n",
    "    \n",
    "    \n",
    "    return widgets.VBox([description_out, alternativ, check, feedback_out])"
   ]
  },
  {
   "cell_type": "code",
   "execution_count": 116,
   "metadata": {},
   "outputs": [],
   "source": [
    "Q1 = create_multipleChoice_widget('What is your current age?',[('More than 60'), \n",
    "      ('Between 41 and 60'), \n",
    "      ('Between 21 and 40'), \n",
    "      ('20 or younger')],'Between 41 and 60')"
   ]
  },
  {
   "cell_type": "code",
   "execution_count": 117,
   "metadata": {},
   "outputs": [
    {
     "data": {
      "application/vnd.jupyter.widget-view+json": {
       "model_id": "61c9da50e0a741a68695a38b20831dc8",
       "version_major": 2,
       "version_minor": 0
      },
      "text/plain": [
       "VBox(children=(Output(), RadioButtons(options=(('More than 60', 0), ('Between 41 and 60', 1), ('Between 21 and…"
      ]
     },
     "metadata": {},
     "output_type": "display_data"
    }
   ],
   "source": [
    "display(Q1)"
   ]
  },
  {
   "cell_type": "code",
   "execution_count": 118,
   "metadata": {},
   "outputs": [],
   "source": [
    "Q2 = create_multipleChoice_widget('Please estimate when you will need to withdraw 20% of your current portfolio value, such as a need for a house down payment or some other major financial need?',[('Within the next year'),\n",
    "      ('2 to 5 years from now'), \n",
    "      ('5 to 10 years from now'), \n",
    "      ('10 to 20 years from now'), \n",
    "      ('More than 20'), ('No plans to withdraw')],'No plans to withdraw')"
   ]
  },
  {
   "cell_type": "code",
   "execution_count": 119,
   "metadata": {},
   "outputs": [
    {
     "data": {
      "application/vnd.jupyter.widget-view+json": {
       "model_id": "24c622913f3e4b8b987f7900b30c845d",
       "version_major": 2,
       "version_minor": 0
      },
      "text/plain": [
       "VBox(children=(Output(), RadioButtons(options=(('Within the next year', 0), ('2 to 5 years from now', 1), ('5 …"
      ]
     },
     "metadata": {},
     "output_type": "display_data"
    }
   ],
   "source": [
    "display(Q2)"
   ]
  },
  {
   "cell_type": "code",
   "execution_count": 120,
   "metadata": {},
   "outputs": [],
   "source": [
    "Q3 = create_multipleChoice_widget('If you were to lose your job today, how long will you be able to maintain your current spending life style before you run out of money in your Savings and Checking account?',[('I am retired'),\n",
    "      ('1 week'), \n",
    "      ('1 month'), \n",
    "      ('3 months'), \n",
    "      ('6 months or more')],'I am retired')"
   ]
  },
  {
   "cell_type": "code",
   "execution_count": 121,
   "metadata": {},
   "outputs": [
    {
     "data": {
      "application/vnd.jupyter.widget-view+json": {
       "model_id": "006d33148d0848039a8bbd9f177e7ec1",
       "version_major": 2,
       "version_minor": 0
      },
      "text/plain": [
       "VBox(children=(Output(), RadioButtons(options=(('I am retired', 0), ('1 week', 1), ('1 month', 2), ('3 months'…"
      ]
     },
     "metadata": {},
     "output_type": "display_data"
    }
   ],
   "source": [
    "display(Q3)"
   ]
  },
  {
   "cell_type": "code",
   "execution_count": 122,
   "metadata": {},
   "outputs": [],
   "source": [
    "Q4 = create_multipleChoice_widget('What is your total annual income including Work, Pension, Social Security, etc.?)',[('Less than $50K'), \n",
    "      ('Between $50k to $100k'), \n",
    "      ('Between $100k and $150k'), \n",
    "      ('Between $150k and $250k'), ('More than $250k')],'Between $150k and $250k')"
   ]
  },
  {
   "cell_type": "code",
   "execution_count": 123,
   "metadata": {},
   "outputs": [
    {
     "data": {
      "application/vnd.jupyter.widget-view+json": {
       "model_id": "38dc22025ac244179336acef60d18e2f",
       "version_major": 2,
       "version_minor": 0
      },
      "text/plain": [
       "VBox(children=(Output(), RadioButtons(options=(('Less than $50K', 0), ('Between $50k to $100k', 1), ('Between …"
      ]
     },
     "metadata": {},
     "output_type": "display_data"
    }
   ],
   "source": [
    "display(Q4)"
   ]
  },
  {
   "cell_type": "code",
   "execution_count": 124,
   "metadata": {},
   "outputs": [],
   "source": [
    "Q5 = create_multipleChoice_widget('Over the next several years, you expect your annual income to?',[('Stay about the same'),\n",
    "      ('Grow moderately'), \n",
    "      ('Grow substantially'), \n",
    "      ('Decrease moderately'), \n",
    "      ('Decrease substantially')],'Grow substantially')"
   ]
  },
  {
   "cell_type": "code",
   "execution_count": 125,
   "metadata": {},
   "outputs": [
    {
     "data": {
      "application/vnd.jupyter.widget-view+json": {
       "model_id": "95210291deb940bf8e2c3d15cefc626e",
       "version_major": 2,
       "version_minor": 0
      },
      "text/plain": [
       "VBox(children=(Output(), RadioButtons(options=(('Stay about the same', 0), ('Grow moderately', 1), ('Grow subs…"
      ]
     },
     "metadata": {},
     "output_type": "display_data"
    }
   ],
   "source": [
    "display(Q5)"
   ]
  },
  {
   "cell_type": "code",
   "execution_count": 126,
   "metadata": {},
   "outputs": [],
   "source": [
    "Q6 = create_multipleChoice_widget('Due to a general market correction, one of your investments loses 14% of its value a short time after you buy it. What do you do?',[('Sell the investment'),\n",
    "      ('Hold on to it and wait for it to climb back up'), \n",
    "      ('Buy more of the same investment')],'Sell the investment')"
   ]
  },
  {
   "cell_type": "code",
   "execution_count": 127,
   "metadata": {},
   "outputs": [
    {
     "data": {
      "application/vnd.jupyter.widget-view+json": {
       "model_id": "5e45cc5be2994bce8fc78996d8bfd569",
       "version_major": 2,
       "version_minor": 0
      },
      "text/plain": [
       "VBox(children=(Output(), RadioButtons(options=(('Sell the investment', 0), ('Hold on to it and wait for it to …"
      ]
     },
     "metadata": {},
     "output_type": "display_data"
    }
   ],
   "source": [
    "display(Q6)"
   ]
  },
  {
   "cell_type": "code",
   "execution_count": 128,
   "metadata": {},
   "outputs": [],
   "source": [
    "Q7 = create_multipleChoice_widget('Assuming you are investing in a stock, which one do you choose?',[('Companies with low initial offering price'), \n",
    "      ('Established & growing companies'),                                                                                               \n",
    "      ('Blue chip stocks that pay dividends'),                                                                                               \n",
    "      ('Not intesrested in stock investment')],'Established & growing companies')"
   ]
  },
  {
   "cell_type": "code",
   "execution_count": 129,
   "metadata": {},
   "outputs": [
    {
     "data": {
      "application/vnd.jupyter.widget-view+json": {
       "model_id": "f12110ea009041c2a0ae346b07061965",
       "version_major": 2,
       "version_minor": 0
      },
      "text/plain": [
       "VBox(children=(Output(), RadioButtons(options=(('Companies with low initial offering price', 0), ('Established…"
      ]
     },
     "metadata": {},
     "output_type": "display_data"
    }
   ],
   "source": [
    "display(Q7)"
   ]
  },
  {
   "cell_type": "code",
   "execution_count": 130,
   "metadata": {},
   "outputs": [],
   "source": [
    "Q8 = create_multipleChoice_widget('Assuming you are investing in only one bond, which bond do you choose?',[('High-yield bond that pays a higher interest rate'), \n",
    "      ('A tax-free bond to minimize taxes'),                                                                                               \n",
    "      ('Bond with average interest rate')],'Bond with average interest rate')"
   ]
  },
  {
   "cell_type": "code",
   "execution_count": 131,
   "metadata": {},
   "outputs": [
    {
     "data": {
      "application/vnd.jupyter.widget-view+json": {
       "model_id": "d0e6a3d13c8041efa2db1645853be056",
       "version_major": 2,
       "version_minor": 0
      },
      "text/plain": [
       "VBox(children=(Output(), RadioButtons(options=(('High-yield bond that pays a higher interest rate', 0), ('A ta…"
      ]
     },
     "metadata": {},
     "output_type": "display_data"
    }
   ],
   "source": [
    "display(Q8)"
   ]
  },
  {
   "cell_type": "code",
   "execution_count": 132,
   "metadata": {},
   "outputs": [],
   "source": [
    "Q9 = create_multipleChoice_widget('If you unexpectedly received $20,000 to invest today, what would you do?',[('Deposite it in account'), \n",
    "      ('Invest only in bonds'), \n",
    "      ('Invest in mix of bond & stock'), \n",
    "      ('Invest only in stocks'),('Buy lottery tickets')],'Invest in mix of bond & stock')"
   ]
  },
  {
   "cell_type": "code",
   "execution_count": 133,
   "metadata": {},
   "outputs": [
    {
     "data": {
      "application/vnd.jupyter.widget-view+json": {
       "model_id": "ca9e7760f6464daf97dbaa4758cf0303",
       "version_major": 2,
       "version_minor": 0
      },
      "text/plain": [
       "VBox(children=(Output(), RadioButtons(options=(('Deposite it in account', 0), ('Invest only in bonds', 1), ('I…"
      ]
     },
     "metadata": {},
     "output_type": "display_data"
    }
   ],
   "source": [
    "display(Q9)"
   ]
  },
  {
   "cell_type": "code",
   "execution_count": 134,
   "metadata": {},
   "outputs": [],
   "source": [
    "Q10 = create_multipleChoice_widget('When you think of the word “risk” in a financial context, which of the following words come to mind?',[('Absolute loss'), \n",
    "      ('Danger'), \n",
    "      ('Uncertainty'), \n",
    "      ('Opportunity'),('Thrill')],'Opportunity')"
   ]
  },
  {
   "cell_type": "code",
   "execution_count": 135,
   "metadata": {},
   "outputs": [
    {
     "data": {
      "application/vnd.jupyter.widget-view+json": {
       "model_id": "0b48c4a2278e4a419f6af390b7ca308c",
       "version_major": 2,
       "version_minor": 0
      },
      "text/plain": [
       "VBox(children=(Output(), RadioButtons(options=(('Absolute loss', 0), ('Danger', 1), ('Uncertainty', 2), ('Oppo…"
      ]
     },
     "metadata": {},
     "output_type": "display_data"
    }
   ],
   "source": [
    "display(Q10)"
   ]
  },
  {
   "cell_type": "code",
   "execution_count": 136,
   "metadata": {},
   "outputs": [],
   "source": [
    "Q11 = create_multipleChoice_widget('Which of these statements would best describe your attitudes about the next three years performance of this investment?',[('Need to see atleast little return'), \n",
    "      ('Would have hard time on losses'), \n",
    "      ('I can tolrate a small loss'), \n",
    "      ('I do not mind a loss'),('I can tolerate loss')],'I can tolrate a small loss')"
   ]
  },
  {
   "cell_type": "code",
   "execution_count": 137,
   "metadata": {},
   "outputs": [
    {
     "data": {
      "application/vnd.jupyter.widget-view+json": {
       "model_id": "e002e0e77a544be58916b9c4cc963dd3",
       "version_major": 2,
       "version_minor": 0
      },
      "text/plain": [
       "VBox(children=(Output(), RadioButtons(options=(('Need to see atleast little return', 0), ('Would have hard tim…"
      ]
     },
     "metadata": {},
     "output_type": "display_data"
    }
   ],
   "source": [
    "display(Q11)"
   ]
  },
  {
   "cell_type": "code",
   "execution_count": 146,
   "metadata": {},
   "outputs": [
    {
     "data": {
      "text/html": [
       "<table>\n",
       "<tbody>\n",
       "<tr><td>Plan</td><td>Best_case%</td><td>Worst_case%</td><td>Avg_annual_return%</td></tr>\n",
       "<tr><td>A   </td><td>16.1      </td><td>-5.4       </td><td>7.0               </td></tr>\n",
       "<tr><td>B   </td><td>24.8      </td><td>-11.9      </td><td>8.8               </td></tr>\n",
       "<tr><td>C   </td><td>33.4      </td><td>-18.0      </td><td>10.2              </td></tr>\n",
       "<tr><td>D   </td><td>42.6      </td><td>-23.8      </td><td>11.5              </td></tr>\n",
       "<tr><td>E   </td><td>50.0      </td><td>-28.2      </td><td>12.3              </td></tr>\n",
       "</tbody>\n",
       "</table>"
      ],
      "text/plain": [
       "<IPython.core.display.HTML object>"
      ]
     },
     "metadata": {},
     "output_type": "display_data"
    }
   ],
   "source": [
    "Q12 = create_multipleChoice_widget('How emotionally comfortable are you with volatility?Which the following portfolios are you more comfortable with given the best-case and worst-case annual return?',[('Plan A'), \n",
    "      ('Plan B'), \n",
    "      ('Plan C'), \n",
    "      ('Plan D'),('Plan E')],'Plan B')\n",
    "\n",
    "table = [[\"Plan\",'Best_case%','Worst_case%','Avg_annual_return%'],\n",
    "         [\"A\",16.1,-5.4,7.0],\n",
    "         [\"B\",24.8,-11.9,8.8],\n",
    "         [\"C\",33.4,-18.0,10.2],\n",
    "         [\"D\",42.6,-23.8,11.5],\n",
    "         [\"E\",50.0,-28.2,12.3]]\n",
    "display(HTML(tabulate.tabulate(table, tablefmt='html')))"
   ]
  },
  {
   "cell_type": "code",
   "execution_count": 147,
   "metadata": {},
   "outputs": [
    {
     "data": {
      "application/vnd.jupyter.widget-view+json": {
       "model_id": "4f4db6d317064acba25929ca85016311",
       "version_major": 2,
       "version_minor": 0
      },
      "text/plain": [
       "VBox(children=(Output(outputs=({'name': 'stdout', 'text': 'How emotionally comfortable are you with volatility…"
      ]
     },
     "metadata": {},
     "output_type": "display_data"
    }
   ],
   "source": [
    "display(Q12)"
   ]
  },
  {
   "cell_type": "code",
   "execution_count": null,
   "metadata": {},
   "outputs": [],
   "source": [
    "investing plans would you choose for your investment dollars"
   ]
  },
  {
   "cell_type": "code",
   "execution_count": null,
   "metadata": {},
   "outputs": [],
   "source": []
  }
 ],
 "metadata": {
  "kernelspec": {
   "display_name": "Python [conda env:pyviz] *",
   "language": "python",
   "name": "conda-env-pyviz-py"
  },
  "language_info": {
   "codemirror_mode": {
    "name": "ipython",
    "version": 3
   },
   "file_extension": ".py",
   "mimetype": "text/x-python",
   "name": "python",
   "nbconvert_exporter": "python",
   "pygments_lexer": "ipython3",
   "version": "3.8.5"
  }
 },
 "nbformat": 4,
 "nbformat_minor": 4
}
